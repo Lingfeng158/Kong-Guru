{
 "cells": [
  {
   "cell_type": "code",
   "execution_count": 1,
   "metadata": {},
   "outputs": [],
   "source": [
    "# Analyais on Fan 对番种之研究\n",
    "import numpy as np\n",
    "import os\n",
    "from collections import defaultdict\n",
    "import rule\n",
    "def default_zero():\n",
    "    return 0\n",
    "def default_list():\n",
    "    return []"
   ]
  },
  {
   "cell_type": "code",
   "execution_count": 2,
   "metadata": {},
   "outputs": [
    {
     "name": "stdout",
     "output_type": "stream",
     "text": [
      "总共有4.250e+18种组合数。\n"
     ]
    }
   ],
   "source": [
    "# Total Tile Combinations 所有可能手牌组合 C136, 14\n",
    "combination = 1\n",
    "for i in range(14):\n",
    "    combination*=(136-i)/(14-i)\n",
    "print(\"总共有{:.3e}种组合数。\".format(combination))"
   ]
  },
  {
   "cell_type": "code",
   "execution_count": 3,
   "metadata": {},
   "outputs": [],
   "source": [
    "tile_list_raw = ['B1', 'B2', 'B3', 'B4', 'B5', 'B6', 'B7', 'B8', 'B9',  #饼\n",
    "            'W1', 'W2', 'W3', 'W4', 'W5', 'W6', 'W7', 'W8', 'W9',   #万\n",
    "            'T1', 'T2', 'T3', 'T4', 'T5', 'T6', 'T7', 'T8', 'T9',   #条\n",
    "            'F1', 'F2', 'F3', 'F4', 'J1', 'J2', 'J3' #风、箭\n",
    "            ]"
   ]
  },
  {
   "cell_type": "code",
   "execution_count": 4,
   "metadata": {},
   "outputs": [],
   "source": [
    "triplet_collection = []\n",
    "duo_collection = []\n",
    "for i in range(len(tile_list_raw)):\n",
    "    tile = tile_list_raw[i]\n",
    "    tile_type = tile[0]\n",
    "    rank = tile[1]\n",
    "    tile_next = None\n",
    "    tile_prev = None\n",
    "    if i!=0 :\n",
    "        tile_prev = tile_list_raw[i-1]\n",
    "    if i!= len(tile_list_raw)-1:\n",
    "        tile_next = tile_list_raw[i+1]\n",
    "    # add duo\n",
    "    duo_collection.append({tile:2})\n",
    "    # add trio\n",
    "    triplet_collection.append({tile:3})\n",
    "    # add straight\n",
    "    if tile_next and tile_prev  and tile_next[0]==tile_type and tile_prev[0]==tile_type and tile_type in [\"B\",\"W\",\"T\"]:\n",
    "        triplet_collection.append({tile_prev:1, tile:1, tile_next:1})\n"
   ]
  },
  {
   "cell_type": "code",
   "execution_count": 5,
   "metadata": {},
   "outputs": [],
   "source": [
    "def test_validity(list_of_combination_dicts):\n",
    "    \"\"\"\n",
    "    Test if any tile_comb exceed limit of 4\n",
    "    \"\"\"\n",
    "    tile_holder = defaultdict(default_zero)\n",
    "    for combination_dict in list_of_combination_dicts:\n",
    "        for k in combination_dict:\n",
    "            tile_holder[k]+=combination_dict[k]\n",
    "            if tile_holder[k]>4:\n",
    "                return False\n",
    "    return True\n"
   ]
  },
  {
   "cell_type": "code",
   "execution_count": 6,
   "metadata": {},
   "outputs": [],
   "source": [
    "# Brute-force through all possible combinations and discard the unfit\n",
    "def brute_force_filter(first_triplet, triplet_collection, duo_collection):\n",
    "    \"\"\"\n",
    "    Fixed first triplet for parallel processing\n",
    "    \"\"\"\n",
    "    valid_generic_form = 0\n",
    "    preset_multiplier = [4,6,4,1]\n",
    "    for second_triplet in triplet_collection:\n",
    "        if test_validity([first_triplet, second_triplet]):\n",
    "            for third_triplet in triplet_collection:\n",
    "                if test_validity([first_triplet, second_triplet, third_triplet]):\n",
    "                    for fourth_triplet in triplet_collection:\n",
    "                        if test_validity([first_triplet, second_triplet, third_triplet, fourth_triplet]):\n",
    "                            for duo in duo_collection:\n",
    "                                if test_validity([first_triplet, second_triplet, third_triplet, fourth_triplet, duo]):\n",
    "                                    tmp_hand = defaultdict(default_zero)\n",
    "                                    # calculate possibilities of forming such hand\n",
    "                                    formation_multiplier = 1\n",
    "                                    win_tile = None\n",
    "                                    for k in first_triplet:\n",
    "                                        tmp_hand[k]+=first_triplet[k]\n",
    "                                    for k in second_triplet:\n",
    "                                        tmp_hand[k]+=second_triplet[k]\n",
    "                                    for k in third_triplet:\n",
    "                                        tmp_hand[k]+=third_triplet[k]\n",
    "                                    for k in fourth_triplet:\n",
    "                                        tmp_hand[k]+=fourth_triplet[k]\n",
    "                                    for k in duo:\n",
    "                                        tmp_hand[k]+=duo[k]\n",
    "                                        win_tile = k\n",
    "                                    for k in tmp_hand:\n",
    "                                        formation_multiplier*=preset_multiplier[tmp_hand[k]-1]\n",
    "                                    valid_generic_form+=formation_multiplier\n",
    "    return valid_generic_form\n",
    "\n",
    "    "
   ]
  },
  {
   "cell_type": "code",
   "execution_count": 7,
   "metadata": {},
   "outputs": [],
   "source": [
    "# Brute-force through all possible combinations\n",
    "def brute_force_analysis(triplet_collection, duo_collection):\n",
    "    \"\"\"\n",
    "    Fixed first triplet for parallel processing\n",
    "    \"\"\"\n",
    "    preset_multiplier = [4,6,4,1]\n",
    "    cumulative_fan = defaultdict(default_zero)\n",
    "    for first_triplet in triplet_collection:\n",
    "        for second_triplet in triplet_collection:\n",
    "            for third_triplet in triplet_collection:\n",
    "                for fourth_triplet in triplet_collection:\n",
    "                    for duo in duo_collection:\n",
    "                        if test_validity([first_triplet, second_triplet, third_triplet, fourth_triplet, duo]):\n",
    "                            tmp_hand = defaultdict(default_zero)\n",
    "                            # calculate possibilities of forming such hand\n",
    "                            formation_multiplier = 1\n",
    "                            win_tile = None\n",
    "                            for k in first_triplet:\n",
    "                                tmp_hand[k]+=first_triplet[k]\n",
    "                            for k in second_triplet:\n",
    "                                tmp_hand[k]+=second_triplet[k]\n",
    "                            for k in third_triplet:\n",
    "                                tmp_hand[k]+=third_triplet[k]\n",
    "                            for k in fourth_triplet:\n",
    "                                tmp_hand[k]+=fourth_triplet[k]\n",
    "                            for k in duo:\n",
    "                                tmp_hand[k]+=duo[k]\n",
    "                                win_tile = k\n",
    "                            for k in tmp_hand:\n",
    "                                formation_multiplier*=preset_multiplier[tmp_hand[k]-1]\n",
    "                            fan_sum, fan_list = rule.calc_exact_fan_with_PyMahJongGB([], tmp_hand, win_tile, False,False, False, False, 1,0)\n",
    "                            if fan_sum>=8:\n",
    "                                for fan in fan_list:\n",
    "                                    cumulative_fan[fan]+=formation_multiplier\n",
    "    return cumulative_fan"
   ]
  },
  {
   "cell_type": "code",
   "execution_count": 8,
   "metadata": {},
   "outputs": [],
   "source": [
    "def multicolor_dragon_analysis( triplet_collection, duo_collection):\n",
    "    \"\"\"\n",
    "    Fixed first triplet for parallel processing\n",
    "    \"\"\"\n",
    "    preset = {\"B1\":1, \"W2\":1, \"T3\":1, \"B4\":1, \"W5\":1, \"T6\":1, \"B7\":1, \"W8\":1, \"T9\":1 }\n",
    "    valid_generic_form = 0\n",
    "    preset_multiplier = [4,6,4,1]\n",
    "    for fourth_triplet in triplet_collection:\n",
    "        for duo in duo_collection:\n",
    "            if test_validity([preset, fourth_triplet, duo]):\n",
    "                tmp_hand = defaultdict(default_zero)\n",
    "                # calculate possibilities of forming such hand\n",
    "                formation_multiplier = 1\n",
    "                win_tile = None\n",
    "                for k in preset:\n",
    "                    tmp_hand[k]+=preset[k]\n",
    "                for k in fourth_triplet:\n",
    "                    tmp_hand[k]+=fourth_triplet[k]\n",
    "                for k in duo:\n",
    "                    tmp_hand[k]+=duo[k]\n",
    "                    win_tile = k\n",
    "                for k in tmp_hand:\n",
    "                    formation_multiplier*=preset_multiplier[tmp_hand[k]-1]\n",
    "                valid_generic_form+=formation_multiplier\n",
    "    valid_generic_form*=6 # 6 combinations with color\n",
    "    return valid_generic_form"
   ]
  },
  {
   "cell_type": "code",
   "execution_count": 9,
   "metadata": {},
   "outputs": [],
   "source": [
    "data_path = os.path.join('../fan_analysis_simulated.npy')\n",
    "with open(data_path, \"rb\") as f:\n",
    "    fan_dict = np.load(f, allow_pickle=True).item()\n",
    "    hash_dict = np.load(f,allow_pickle=True).item()\n",
    "del fan_dict['全求人']"
   ]
  },
  {
   "cell_type": "code",
   "execution_count": 10,
   "metadata": {},
   "outputs": [
    {
     "name": "stdout",
     "output_type": "stream",
     "text": [
      "5.798e+10\n"
     ]
    }
   ],
   "source": [
    "# 七星不靠\n",
    "combination_total_bukao7 = 1\n",
    "# 三色互换\n",
    "combination_total_bukao7 *= 6\n",
    "# 16抽14\n",
    "combination_total_bukao7 *= 9*8/2/1\n",
    "# 每张牌抽4\n",
    "combination_total_bukao7 *= 4**14\n",
    "fan_dict['七星不靠']=combination_total_bukao7\n",
    "print(\"{:.3e}\".format(combination_total_bukao7))"
   ]
  },
  {
   "cell_type": "code",
   "execution_count": 11,
   "metadata": {},
   "outputs": [
    {
     "name": "stdout",
     "output_type": "stream",
     "text": [
      "3.382e+10\n"
     ]
    }
   ],
   "source": [
    "# 组合龙 + 全不靠\n",
    "combination_total_bd = 1\n",
    "# 三色互换\n",
    "combination_total_bd *= 6\n",
    "# 7抽5\n",
    "combination_total_bd *= 7*6/2/1\n",
    "# 每张牌抽4\n",
    "combination_total_bd *= 4**14\n",
    "\n",
    "print(\"{:.3e}\".format(combination_total_bd))"
   ]
  },
  {
   "cell_type": "code",
   "execution_count": 12,
   "metadata": {},
   "outputs": [
    {
     "name": "stdout",
     "output_type": "stream",
     "text": [
      "1.353e+11\n"
     ]
    }
   ],
   "source": [
    "# 全不靠\n",
    "combination_total_bukao = 1\n",
    "# 三色互换\n",
    "combination_total_bukao *= 6\n",
    "# 16抽14\n",
    "combination_total_bukao *= 16*15/2/1\n",
    "# 每张牌抽4\n",
    "combination_total_bukao *= 4**14\n",
    "combination_total_bukao-=combination_total_bukao7\n",
    "fan_dict['全不靠']=combination_total_bukao\n",
    "print(\"{:.3e}\".format(combination_total_bukao))"
   ]
  },
  {
   "cell_type": "code",
   "execution_count": 13,
   "metadata": {},
   "outputs": [
    {
     "name": "stdout",
     "output_type": "stream",
     "text": [
      "2.519e+06\n"
     ]
    }
   ],
   "source": [
    "# 连七对\n",
    "combination_total_connected_heptapairs = 1\n",
    "# 9种选择\n",
    "combination_total_connected_heptapairs*=9\n",
    "# 每张抽2\n",
    "combination_total_connected_heptapairs*=6**7\n",
    "fan_dict['连七对']=combination_total_connected_heptapairs\n",
    "print(\"{:.3e}\".format(combination_total_connected_heptapairs))"
   ]
  },
  {
   "cell_type": "code",
   "execution_count": 14,
   "metadata": {},
   "outputs": [
    {
     "name": "stdout",
     "output_type": "stream",
     "text": [
      "1.506e+12\n"
     ]
    }
   ],
   "source": [
    "# 七对\n",
    "combination_total_heptapairs = 1\n",
    "# 34抽7\n",
    "for i in range(7):\n",
    "    combination_total_heptapairs*=(34-i)/(7-i)\n",
    "# 每张抽2\n",
    "combination_total_heptapairs*=6**7\n",
    "combination_total_heptapairs-=combination_total_connected_heptapairs\n",
    "fan_dict['七对']=combination_total_heptapairs\n",
    "print(\"{:.3e}\".format(combination_total_heptapairs))"
   ]
  },
  {
   "cell_type": "code",
   "execution_count": 15,
   "metadata": {},
   "outputs": [
    {
     "name": "stdout",
     "output_type": "stream",
     "text": [
      "1.421e+11\n"
     ]
    }
   ],
   "source": [
    "# 组合龙\n",
    "multicolor_dragon = multicolor_dragon_analysis(triplet_collection,duo_collection)\n",
    "fan_dict['组合龙']=multicolor_dragon\n",
    "print(\"{:.3e}\".format(multicolor_dragon))"
   ]
  },
  {
   "cell_type": "code",
   "execution_count": 16,
   "metadata": {},
   "outputs": [
    {
     "name": "stdout",
     "output_type": "stream",
     "text": [
      "1.309e+09\n"
     ]
    }
   ],
   "source": [
    "# 十三幺\n",
    "combination_total_thirteen = 1\n",
    "# *13\n",
    "combination_total_thirteen*=13\n",
    "# 12张，4找1\n",
    "combination_total_thirteen*=4**12\n",
    "# 一对将\n",
    "combination_total_thirteen*=6\n",
    "fan_dict['十三幺']=combination_total_thirteen\n",
    "print(\"{:.3e}\".format(combination_total_thirteen))"
   ]
  },
  {
   "cell_type": "code",
   "execution_count": 17,
   "metadata": {},
   "outputs": [
    {
     "name": "stdout",
     "output_type": "stream",
     "text": [
      "Total valid special combination: 1.843e+12\n",
      "Total valid generic combination: 1.278e+13\n",
      "Total valid combination: 1.462e+13\n"
     ]
    }
   ],
   "source": [
    "\n",
    "total_valid_combinations = 0\n",
    "for hash in hash_dict:\n",
    "    total_valid_combinations+=hash_dict[hash]\n",
    "print(\"Total valid special combination: {:.3e}\".format(combination_total_bukao+combination_total_bukao7+combination_total_thirteen+multicolor_dragon+combination_total_heptapairs))\n",
    "print(\"Total valid generic combination: {:.3e}\".format(total_valid_combinations))\n",
    "total_valid_combinations+=combination_total_bukao\n",
    "total_valid_combinations+=combination_total_bukao7\n",
    "total_valid_combinations+=combination_total_thirteen\n",
    "total_valid_combinations+=multicolor_dragon\n",
    "total_valid_combinations+=combination_total_heptapairs\n",
    "print(\"Total valid combination: {:.3e}\".format(total_valid_combinations))"
   ]
  },
  {
   "cell_type": "markdown",
   "metadata": {},
   "source": [
    "### 难度拆解\n",
    "概率导致的难度：组合稀少\n",
    "\n",
    "行牌导致的难度：进牌困难\n",
    "\n",
    "假设对手随机打牌：\n",
    "\n",
    "每多一个可碰刻子（2张等1张），成牌概率*4\n",
    "\n",
    "每多一个可吃顺子（2张等1张），成牌概率*2\n",
    "\n",
    "每多一个可吃顺子（2张等2张），成牌概率*4"
   ]
  },
  {
   "cell_type": "code",
   "execution_count": 41,
   "metadata": {},
   "outputs": [],
   "source": [
    "# 对番数合理性的探究"
   ]
  },
  {
   "cell_type": "code",
   "execution_count": 40,
   "metadata": {},
   "outputs": [],
   "source": [
    "fan_point_dict = defaultdict(default_list)\n",
    "fan_point_dict[88]=['大四喜','大三元','九莲宝灯','四杠','连七对','绿一色','十三幺',]\n",
    "fan_point_dict[64]=['小四喜','小三元','字一色','一色双龙会','清幺九','四暗刻']\n",
    "fan_point_dict[48]=['一色四同顺','一色四节高']\n",
    "fan_point_dict[32]=['一色四步高','三杠','混幺九',]\n",
    "fan_point_dict[24]=['一色三同顺','一色三节高','全双刻','七对','全大','全中','全小','清一色','七星不靠']\n",
    "fan_point_dict[16]=['清龙','一色三步高','三同刻','三暗刻','三色双龙会','全带五',]\n",
    "fan_point_dict[12]=['三风刻','大于五','小于五','全不靠','组合龙']\n",
    "fan_point_dict[8]=['花龙','双暗杠','三色三同顺','三色三节高','推不倒','妙手回春','海底捞月','杠上开花','抢杠和','无番和',]\n",
    "fan_point_dict[6]=['双箭刻','三色三步高','混一色','五门齐','碰碰和','全求人']\n",
    "fan_point_dict[4]=['双明杠','全带幺','不求人','和绝张',]\n",
    "fan_point_dict[2]=['箭刻','圈风刻','门风刻','双同刻','双暗刻','暗杠','断幺','平和','门前清','四归一']\n",
    "fan_point_dict[1]=['无字','连六','老少副','一般高','幺九刻','明杠','喜相逢','缺一门','边张','嵌张','单钓将','自摸',]"
   ]
  },
  {
   "cell_type": "code",
   "execution_count": 41,
   "metadata": {},
   "outputs": [
    {
     "name": "stdout",
     "output_type": "stream",
     "text": [
      "双暗杠\n",
      "妙手回春\n",
      "海底捞月\n",
      "杠上开花\n",
      "抢杠和\n",
      "无番和\n",
      "全求人\n",
      "不求人\n",
      "和绝张\n",
      "暗杠\n",
      "自摸\n",
      "单钓将\n",
      "门前清\n"
     ]
    }
   ],
   "source": [
    "\n",
    "for point in fan_point_dict:\n",
    "    for fan in fan_point_dict[point]:\n",
    "        if fan not in fan_dict.keys():\n",
    "            print(fan)\n",
    "\n",
    "print('单钓将')\n",
    "print('门前清')"
   ]
  },
  {
   "cell_type": "code",
   "execution_count": 42,
   "metadata": {},
   "outputs": [
    {
     "name": "stdout",
     "output_type": "stream",
     "text": [
      "连七对 54\n",
      "四杠 204\n",
      "一色四同顺 3906\n",
      "大四喜 46080\n",
      "清幺九 53760\n",
      "绿一色 146082\n",
      "字一色 161280\n",
      "三杠 280944\n",
      "一色三同顺 552960\n",
      "一色双龙会 839808\n",
      "一色四节高 898074\n",
      "小四喜 2250240\n",
      "九莲宝灯 3538944\n",
      "全双刻 6082560\n",
      "混幺九 10429440\n",
      "大三元 16149120\n",
      "七对 32277641.999999993\n",
      "三风刻 62161920\n",
      "全中 63288972\n",
      "全大 63288972\n",
      "全小 66499980\n",
      "双明杠 67264300\n",
      "碰碰和 72155088\n",
      "三同刻 107835520\n",
      "小三元 265933728\n",
      "一色三节高 291960644\n",
      "三色双龙会 301989888\n",
      "一色四步高 434221056\n",
      "三色三节高 467614016\n",
      "推不倒 966549204\n",
      "全带五 1107503148\n",
      "十三幺 1308622848\n",
      "清一色 1357790026\n",
      "四暗刻 2137006080\n",
      "大于五 2821022844\n",
      "小于五 2934113956\n",
      "明杠 3572282820\n",
      "双箭刻 6997658400\n",
      "边张 15486600000\n",
      "混一色 21515189726\n",
      "全带幺 34990838176\n",
      "双同刻 36427658400\n",
      "四归一 48160596952\n",
      "七星不靠 57982058496.0\n",
      "一色三步高 58315262400\n",
      "圈风刻 63211678904\n",
      "门风刻 63211678904\n",
      "三暗刻 67479643440\n",
      "嵌张 71865495360\n",
      "五门齐 72738091008\n",
      "一般高 110526685708\n",
      "清龙 116813316096\n",
      "全不靠 135291469824.0\n",
      "老少副 137817864064\n",
      "组合龙 142079164416\n",
      "无字 179517725356\n",
      "箭刻 181725499432\n",
      "花龙 203319508992\n",
      "三色三同顺 217786466304\n",
      "幺九刻 280475158638\n",
      "双暗刻 281016674996\n",
      "断幺 510648277760\n",
      "缺一门 545854749006\n",
      "连六 693643990528\n",
      "三色三步高 824292900864\n",
      "喜相逢 836638934656\n",
      "平和 1402249088400\n",
      "单钓将 1793224147806\n",
      "门前清 2422633915762\n"
     ]
    }
   ],
   "source": [
    "ct_list = []\n",
    "for fan in fan_dict:\n",
    "    ct_list.append(fan_dict[fan])\n",
    "ct_list = list(set(ct_list))\n",
    "ct_list.sort()\n",
    "for ct in ct_list:\n",
    "    for fan in fan_dict:\n",
    "        if fan_dict[fan]==ct:\n",
    "            print(fan, ct)"
   ]
  },
  {
   "cell_type": "code",
   "execution_count": 43,
   "metadata": {},
   "outputs": [
    {
     "name": "stdout",
     "output_type": "stream",
     "text": [
      "大四喜 成牌可能性:\t 4.61e+04\n",
      "大三元 成牌可能性:\t 1.61e+07\n",
      "九莲宝灯 成牌可能性:\t 3.54e+06\n",
      "四杠 成牌可能性:\t 2.04e+02\n",
      "连七对 成牌可能性:\t 5.40e+01\n",
      "绿一色 成牌可能性:\t 1.46e+05\n",
      "十三幺 成牌可能性:\t 1.31e+09\n",
      "1.898e+08\n"
     ]
    }
   ],
   "source": [
    "mj_combination = 0\n",
    "for fan_type in fan_point_dict[88]:\n",
    "    mj_combination+=fan_dict[fan_type]\n",
    "    print(\"{} 成牌可能性:\\t {:.2e}\".format(fan_type, fan_dict[fan_type]))\n",
    "print(\"{:.3e}\".format(mj_combination/len(fan_point_dict[88])))"
   ]
  },
  {
   "cell_type": "code",
   "execution_count": 44,
   "metadata": {},
   "outputs": [
    {
     "name": "stdout",
     "output_type": "stream",
     "text": [
      "小四喜 成牌可能性:\t 2.25e+06\n",
      "小三元 成牌可能性:\t 2.66e+08\n",
      "字一色 成牌可能性:\t 1.61e+05\n",
      "一色双龙会 成牌可能性:\t 8.40e+05\n",
      "清幺九 成牌可能性:\t 5.38e+04\n",
      "四暗刻 成牌可能性:\t 2.14e+09\n",
      "4.010e+08\n"
     ]
    }
   ],
   "source": [
    "mj_combination = 0\n",
    "for fan_type in fan_point_dict[64]:\n",
    "    mj_combination+=fan_dict[fan_type]\n",
    "    print(\"{} 成牌可能性:\\t {:.2e}\".format(fan_type, fan_dict[fan_type]))\n",
    "print(\"{:.3e}\".format(mj_combination/len(fan_point_dict[64])))"
   ]
  },
  {
   "cell_type": "code",
   "execution_count": 45,
   "metadata": {},
   "outputs": [
    {
     "name": "stdout",
     "output_type": "stream",
     "text": [
      "一色四同顺 成牌可能性:\t 3.91e+03\n",
      "一色四节高 成牌可能性:\t 8.98e+05\n",
      "4.510e+05\n"
     ]
    }
   ],
   "source": [
    "mj_combination = 0\n",
    "for fan_type in fan_point_dict[48]:\n",
    "    mj_combination+=fan_dict[fan_type]\n",
    "    print(\"{} 成牌可能性:\\t {:.2e}\".format(fan_type, fan_dict[fan_type]))\n",
    "print(\"{:.3e}\".format(mj_combination/len(fan_point_dict[48])))"
   ]
  },
  {
   "cell_type": "code",
   "execution_count": 46,
   "metadata": {},
   "outputs": [
    {
     "name": "stdout",
     "output_type": "stream",
     "text": [
      "一色四步高 成牌可能性:\t 4.34e+08\n",
      "三杠 成牌可能性:\t 2.81e+05\n",
      "混幺九 成牌可能性:\t 1.04e+07\n",
      "1.483e+08\n"
     ]
    }
   ],
   "source": [
    "mj_combination = 0\n",
    "for fan_type in fan_point_dict[32]:\n",
    "    mj_combination+=fan_dict[fan_type]\n",
    "    print(\"{} 成牌可能性:\\t {:.2e}\".format(fan_type, fan_dict[fan_type]))\n",
    "print(\"{:.3e}\".format(mj_combination/len(fan_point_dict[32])))"
   ]
  },
  {
   "cell_type": "code",
   "execution_count": 47,
   "metadata": {},
   "outputs": [
    {
     "name": "stdout",
     "output_type": "stream",
     "text": [
      "一色三同顺 成牌可能性:\t 5.53e+05\n",
      "一色三节高 成牌可能性:\t 2.92e+08\n",
      "全双刻 成牌可能性:\t 6.08e+06\n",
      "七对 成牌可能性:\t 3.23e+07\n",
      "全大 成牌可能性:\t 6.33e+07\n",
      "全中 成牌可能性:\t 6.33e+07\n",
      "全小 成牌可能性:\t 6.65e+07\n",
      "清一色 成牌可能性:\t 1.36e+09\n",
      "七星不靠 成牌可能性:\t 5.80e+10\n",
      "6.652e+09\n"
     ]
    }
   ],
   "source": [
    "mj_combination = 0\n",
    "for fan_type in fan_point_dict[24]:\n",
    "    mj_combination+=fan_dict[fan_type]\n",
    "    print(\"{} 成牌可能性:\\t {:.2e}\".format(fan_type, fan_dict[fan_type]))\n",
    "print(\"{:.3e}\".format(mj_combination/len(fan_point_dict[24])))"
   ]
  },
  {
   "cell_type": "code",
   "execution_count": 48,
   "metadata": {},
   "outputs": [
    {
     "name": "stdout",
     "output_type": "stream",
     "text": [
      "清龙 成牌可能性:\t 1.17e+11\n",
      "一色三步高 成牌可能性:\t 5.83e+10\n",
      "三同刻 成牌可能性:\t 1.08e+08\n",
      "三暗刻 成牌可能性:\t 6.75e+10\n",
      "三色双龙会 成牌可能性:\t 3.02e+08\n",
      "全带五 成牌可能性:\t 1.11e+09\n",
      "4.069e+10\n"
     ]
    }
   ],
   "source": [
    "mj_combination = 0\n",
    "for fan_type in fan_point_dict[16]:\n",
    "    mj_combination+=fan_dict[fan_type]\n",
    "    print(\"{} 成牌可能性:\\t {:.2e}\".format(fan_type, fan_dict[fan_type]))\n",
    "print(\"{:.3e}\".format(mj_combination/len(fan_point_dict[16])))"
   ]
  },
  {
   "cell_type": "code",
   "execution_count": 49,
   "metadata": {},
   "outputs": [
    {
     "name": "stdout",
     "output_type": "stream",
     "text": [
      "三风刻 成牌可能性:\t 6.22e+07\n",
      "大于五 成牌可能性:\t 2.82e+09\n",
      "小于五 成牌可能性:\t 2.93e+09\n",
      "全不靠 成牌可能性:\t 1.35e+11\n",
      "组合龙 成牌可能性:\t 1.42e+11\n",
      "5.664e+10\n"
     ]
    }
   ],
   "source": [
    "mj_combination = 0\n",
    "for fan_type in fan_point_dict[12]:\n",
    "    mj_combination+=fan_dict[fan_type]\n",
    "    print(\"{} 成牌可能性:\\t {:.2e}\".format(fan_type, fan_dict[fan_type]))\n",
    "print(\"{:.3e}\".format(mj_combination/len(fan_point_dict[12])))"
   ]
  },
  {
   "cell_type": "code",
   "execution_count": null,
   "metadata": {},
   "outputs": [],
   "source": []
  }
 ],
 "metadata": {
  "kernelspec": {
   "display_name": "Python 3.9.12 ('base')",
   "language": "python",
   "name": "python3"
  },
  "language_info": {
   "codemirror_mode": {
    "name": "ipython",
    "version": 3
   },
   "file_extension": ".py",
   "mimetype": "text/x-python",
   "name": "python",
   "nbconvert_exporter": "python",
   "pygments_lexer": "ipython3",
   "version": "3.9.13"
  },
  "orig_nbformat": 4,
  "vscode": {
   "interpreter": {
    "hash": "47f873a0a3f5c080b5a3f0a6af68425945f18820793032958ff2e1d94c43b050"
   }
  }
 },
 "nbformat": 4,
 "nbformat_minor": 2
}
