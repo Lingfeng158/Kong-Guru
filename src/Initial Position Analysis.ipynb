{
 "cells": [
  {
   "cell_type": "code",
   "execution_count": 1,
   "metadata": {},
   "outputs": [],
   "source": [
    "import plotly.express as px\n",
    "from collections import defaultdict\n",
    "from multiprocessing import Pool\n",
    "import multiprocessing\n",
    "import os\n",
    "import numpy as np\n",
    "import pandas as pd\n",
    "from tqdm import tqdm\n",
    "import postprocess_general\n",
    "import postprocess_randomness\n",
    "import postprocess_randomness_enhanced\n",
    "import postprocess_initpos\n",
    "import feature\n",
    "import matplotlib.pyplot as plt\n",
    "import statistics\n",
    "def default_value():\n",
    "    return 0\n",
    "def default_list():\n",
    "    return []\n",
    "plt.rcParams['font.sans-serif']=['SimHei']\n",
    "plt.rcParams[\"figure.figsize\"] = (10,5)"
   ]
  },
  {
   "cell_type": "code",
   "execution_count": 2,
   "metadata": {},
   "outputs": [
    {
     "name": "stderr",
     "output_type": "stream",
     "text": [
      "100%|██████████| 98209/98209 [01:59<00:00, 819.54it/s]"
     ]
    },
    {
     "name": "stdout",
     "output_type": "stream",
     "text": [
      "Processing Done!\n"
     ]
    },
    {
     "name": "stderr",
     "output_type": "stream",
     "text": [
      "\n"
     ]
    }
   ],
   "source": [
    "path = \"../data/\"\n",
    "dst = \"../processed_initpos/\"\n",
    "dir_list = os.listdir(dst)\n",
    "\n",
    "winner_pos=[[],[],[],[]]\n",
    "winner_fan=[[],[],[],[]]\n",
    "winner_pos_adj=[[],[],[],[]]\n",
    "winner_fan_adj=[[],[],[],[]]\n",
    "\n",
    "count=0\n",
    "alt_list=defaultdict(default_value)\n",
    "    \n",
    "pbar = tqdm(dir_list)\n",
    "for file in pbar:\n",
    "    count+=1\n",
    "    (winner_id,\n",
    "    _winner_fan,\n",
    "    completing_ids,\n",
    "    completing_id_fans) = postprocess_initpos.load_from_result(dst, file)\n",
    "    for i in range(4):\n",
    "        losing_pos_adj=False\n",
    "        if winner_id==i:\n",
    "            winner_pos[i].append(1)\n",
    "            winner_pos_adj[i].append(1)\n",
    "            winner_fan[i].append(_winner_fan)\n",
    "            winner_fan_adj[i].append(_winner_fan)\n",
    "        else:\n",
    "            winner_pos[i].append(0)\n",
    "            winner_fan[i].append(0)\n",
    "            for j in range(len(completing_ids)):\n",
    "                if completing_ids[j]==i:\n",
    "                    losing_pos_adj=True\n",
    "                    winner_pos_adj[i].append(1)\n",
    "                    winner_fan_adj[i].append(completing_id_fans[j])\n",
    "            if not losing_pos_adj:\n",
    "                winner_pos_adj[i].append(0)\n",
    "                winner_fan_adj[i].append(0)\n",
    "print(\"Processing Done!\")\n",
    "                    \n",
    "        "
   ]
  },
  {
   "cell_type": "code",
   "execution_count": 17,
   "metadata": {},
   "outputs": [],
   "source": [
    "# prefix sum scan\n",
    "total_length = 45001\n",
    "cum_winner_pos=[[],[],[],[]]\n",
    "cum_winner_fan=[[],[],[],[]]\n",
    "cum_winner_pos_adj=[[],[],[],[]]\n",
    "cum_winner_fan_adj=[[],[],[],[]]\n",
    "for i in range(total_length):\n",
    "    # file_id = np.random.randint(0, len(dir_list))\n",
    "    file_id=i\n",
    "    for index in range(4):\n",
    "        if i==0:\n",
    "            prev_winner_pos=0\n",
    "            prev_winner_fan=0\n",
    "            prev_winner_pos_adj=0\n",
    "            prev_winner_fan_adj=0\n",
    "        else:\n",
    "            prev_winner_pos=cum_winner_pos[index][-1]\n",
    "            prev_winner_fan=cum_winner_fan[index][-1]\n",
    "            prev_winner_pos_adj=cum_winner_pos_adj[index][-1]\n",
    "            prev_winner_fan_adj=cum_winner_fan_adj[index][-1]\n",
    "        cum_winner_pos[index].append(prev_winner_pos+winner_pos[index][file_id])\n",
    "        cum_winner_fan[index].append(prev_winner_fan+winner_fan[index][file_id])\n",
    "        cum_winner_pos_adj[index].append(prev_winner_pos_adj+winner_pos_adj[index][file_id])\n",
    "        cum_winner_fan_adj[index].append(prev_winner_fan_adj+winner_fan_adj[index][file_id])"
   ]
  },
  {
   "cell_type": "code",
   "execution_count": 18,
   "metadata": {},
   "outputs": [
    {
     "name": "stdout",
     "output_type": "stream",
     "text": [
      "Pos 0's adjusted win rate is 0.261\n",
      "Pos 1's adjusted win rate is 0.257\n",
      "Pos 2's adjusted win rate is 0.248\n",
      "Pos 3's adjusted win rate is 0.234\n",
      "Maximum Diff is 0.026457161057437097\n"
     ]
    }
   ],
   "source": [
    "peek_index=45000\n",
    "cum = 0\n",
    "for i in range(4):\n",
    "    cum+=cum_winner_pos_adj[i][peek_index]\n",
    "for i in range(4):\n",
    "    print(\"Pos {}'s adjusted win rate is {:.3f}\".format(i,cum_winner_pos_adj[i][peek_index]/cum))\n",
    "print(\"Maximum Diff is {}\".format((cum_winner_pos_adj[0][peek_index]-cum_winner_pos_adj[3][peek_index])/cum))"
   ]
  },
  {
   "cell_type": "code",
   "execution_count": 19,
   "metadata": {},
   "outputs": [
    {
     "name": "stdout",
     "output_type": "stream",
     "text": [
      "Pos 0's raw win rate is 0.267\n",
      "Pos 1's raw win rate is 0.258\n",
      "Pos 2's raw win rate is 0.246\n",
      "Pos 3's raw win rate is 0.228\n",
      "Maximum Diff is 0.039665875479276975\n"
     ]
    }
   ],
   "source": [
    "cum=0\n",
    "for i in range(4):\n",
    "    cum+=cum_winner_pos[i][peek_index]\n",
    "for i in range(4):\n",
    "    print(\"Pos {}'s raw win rate is {:.3f}\".format(i,cum_winner_pos[i][peek_index]/cum))\n",
    "print(\"Maximum Diff is {}\".format((cum_winner_pos[0][peek_index]-cum_winner_pos[3][peek_index])/cum))"
   ]
  },
  {
   "cell_type": "code",
   "execution_count": 20,
   "metadata": {},
   "outputs": [
    {
     "name": "stdout",
     "output_type": "stream",
     "text": [
      "Pos 0's raw win rate is 0.271\n",
      "Pos 1's raw win rate is 0.256\n",
      "Pos 2's raw win rate is 0.247\n",
      "Pos 3's raw win rate is 0.227\n",
      "Maximum Diff is 0.044259101211629404\n"
     ]
    }
   ],
   "source": [
    "cum=0\n",
    "for i in range(4):\n",
    "    cum+=cum_winner_fan[i][peek_index]\n",
    "for i in range(4):\n",
    "    print(\"Pos {}'s raw win rate is {:.3f}\".format(i,cum_winner_fan[i][peek_index]/cum))\n",
    "print(\"Maximum Diff is {}\".format((cum_winner_fan[0][peek_index]-cum_winner_fan[3][peek_index])/cum))"
   ]
  },
  {
   "cell_type": "code",
   "execution_count": 21,
   "metadata": {},
   "outputs": [
    {
     "name": "stdout",
     "output_type": "stream",
     "text": [
      "Pos 0's raw win rate is 0.264\n",
      "Pos 1's raw win rate is 0.254\n",
      "Pos 2's raw win rate is 0.248\n",
      "Pos 3's raw win rate is 0.234\n",
      "Maximum Diff is 0.030369683964104565\n"
     ]
    }
   ],
   "source": [
    "cum=0\n",
    "for i in range(4):\n",
    "    cum+=cum_winner_fan_adj[i][peek_index]\n",
    "for i in range(4):\n",
    "    print(\"Pos {}'s raw win rate is {:.3f}\".format(i,cum_winner_fan_adj[i][peek_index]/cum))\n",
    "print(\"Maximum Diff is {}\".format((cum_winner_fan_adj[0][peek_index]-cum_winner_fan_adj[3][peek_index])/cum))"
   ]
  },
  {
   "cell_type": "markdown",
   "metadata": {},
   "source": [
    "### Conclusion: By Adding Completing Round Mechanism, initial position advantage can be decreased by ~33%."
   ]
  },
  {
   "cell_type": "code",
   "execution_count": 23,
   "metadata": {},
   "outputs": [
    {
     "name": "stderr",
     "output_type": "stream",
     "text": [
      "100%|██████████| 98209/98209 [01:38<00:00, 993.52it/s] "
     ]
    },
    {
     "name": "stdout",
     "output_type": "stream",
     "text": [
      "Processing Done!\n"
     ]
    },
    {
     "name": "stderr",
     "output_type": "stream",
     "text": [
      "\n"
     ]
    }
   ],
   "source": [
    "path = \"../data/\"\n",
    "dst = \"../processed_initpos_alt/\"\n",
    "dir_list = os.listdir(dst)\n",
    "\n",
    "winner_pos=[[],[],[],[]]\n",
    "winner_fan=[[],[],[],[]]\n",
    "winner_pos_adj=[[],[],[],[]]\n",
    "winner_fan_adj=[[],[],[],[]]\n",
    "\n",
    "count=0\n",
    "alt_list=defaultdict(default_value)\n",
    "    \n",
    "pbar = tqdm(dir_list)\n",
    "for file in pbar:\n",
    "    count+=1\n",
    "    (winner_id,\n",
    "    _winner_fan,\n",
    "    completing_ids,\n",
    "    completing_id_fans) = postprocess_initpos.load_from_result(dst, file)\n",
    "    for i in range(4):\n",
    "        losing_pos_adj=False\n",
    "        if winner_id==i:\n",
    "            winner_pos[i].append(1)\n",
    "            winner_pos_adj[i].append(1)\n",
    "            winner_fan[i].append(_winner_fan)\n",
    "            winner_fan_adj[i].append(_winner_fan)\n",
    "        else:\n",
    "            winner_pos[i].append(0)\n",
    "            winner_fan[i].append(0)\n",
    "            for j in range(len(completing_ids)):\n",
    "                if completing_ids[j]==i:\n",
    "                    losing_pos_adj=True\n",
    "                    winner_pos_adj[i].append(1)\n",
    "                    winner_fan_adj[i].append(completing_id_fans[j])\n",
    "            if not losing_pos_adj:\n",
    "                winner_pos_adj[i].append(0)\n",
    "                winner_fan_adj[i].append(0)\n",
    "print(\"Processing Done!\")"
   ]
  },
  {
   "cell_type": "code",
   "execution_count": 24,
   "metadata": {},
   "outputs": [],
   "source": [
    "# prefix sum scan\n",
    "total_length = 45001\n",
    "cum_winner_pos=[[],[],[],[]]\n",
    "cum_winner_fan=[[],[],[],[]]\n",
    "cum_winner_pos_adj=[[],[],[],[]]\n",
    "cum_winner_fan_adj=[[],[],[],[]]\n",
    "for i in range(total_length):\n",
    "    # file_id = np.random.randint(0, len(dir_list))\n",
    "    file_id=i\n",
    "    for index in range(4):\n",
    "        if i==0:\n",
    "            prev_winner_pos=0\n",
    "            prev_winner_fan=0\n",
    "            prev_winner_pos_adj=0\n",
    "            prev_winner_fan_adj=0\n",
    "        else:\n",
    "            prev_winner_pos=cum_winner_pos[index][-1]\n",
    "            prev_winner_fan=cum_winner_fan[index][-1]\n",
    "            prev_winner_pos_adj=cum_winner_pos_adj[index][-1]\n",
    "            prev_winner_fan_adj=cum_winner_fan_adj[index][-1]\n",
    "        cum_winner_pos[index].append(prev_winner_pos+winner_pos[index][file_id])\n",
    "        cum_winner_fan[index].append(prev_winner_fan+winner_fan[index][file_id])\n",
    "        cum_winner_pos_adj[index].append(prev_winner_pos_adj+winner_pos_adj[index][file_id])\n",
    "        cum_winner_fan_adj[index].append(prev_winner_fan_adj+winner_fan_adj[index][file_id])"
   ]
  },
  {
   "cell_type": "code",
   "execution_count": 25,
   "metadata": {},
   "outputs": [
    {
     "name": "stdout",
     "output_type": "stream",
     "text": [
      "Pos 0's adjusted win rate is 0.257\n",
      "Pos 1's adjusted win rate is 0.253\n",
      "Pos 2's adjusted win rate is 0.248\n",
      "Pos 3's adjusted win rate is 0.242\n",
      "Maximum Diff is 0.015201702239673591\n"
     ]
    }
   ],
   "source": [
    "peek_index=45000\n",
    "cum = 0\n",
    "for i in range(4):\n",
    "    cum+=cum_winner_pos_adj[i][peek_index]\n",
    "for i in range(4):\n",
    "    print(\"Pos {}'s adjusted win rate is {:.3f}\".format(i,cum_winner_pos_adj[i][peek_index]/cum))\n",
    "print(\"Maximum Diff is {}\".format((cum_winner_pos_adj[0][peek_index]-cum_winner_pos_adj[3][peek_index])/cum))"
   ]
  },
  {
   "cell_type": "code",
   "execution_count": 26,
   "metadata": {},
   "outputs": [
    {
     "name": "stdout",
     "output_type": "stream",
     "text": [
      "Pos 0's raw win rate is 0.267\n",
      "Pos 1's raw win rate is 0.258\n",
      "Pos 2's raw win rate is 0.246\n",
      "Pos 3's raw win rate is 0.228\n",
      "Maximum Diff is 0.039665875479276975\n"
     ]
    }
   ],
   "source": [
    "cum=0\n",
    "for i in range(4):\n",
    "    cum+=cum_winner_pos[i][peek_index]\n",
    "for i in range(4):\n",
    "    print(\"Pos {}'s raw win rate is {:.3f}\".format(i,cum_winner_pos[i][peek_index]/cum))\n",
    "print(\"Maximum Diff is {}\".format((cum_winner_pos[0][peek_index]-cum_winner_pos[3][peek_index])/cum))"
   ]
  },
  {
   "cell_type": "code",
   "execution_count": 27,
   "metadata": {},
   "outputs": [
    {
     "name": "stdout",
     "output_type": "stream",
     "text": [
      "Pos 0's raw win rate is 0.271\n",
      "Pos 1's raw win rate is 0.256\n",
      "Pos 2's raw win rate is 0.247\n",
      "Pos 3's raw win rate is 0.227\n",
      "Maximum Diff is 0.044259101211629404\n"
     ]
    }
   ],
   "source": [
    "cum=0\n",
    "for i in range(4):\n",
    "    cum+=cum_winner_fan[i][peek_index]\n",
    "for i in range(4):\n",
    "    print(\"Pos {}'s raw win rate is {:.3f}\".format(i,cum_winner_fan[i][peek_index]/cum))\n",
    "print(\"Maximum Diff is {}\".format((cum_winner_fan[0][peek_index]-cum_winner_fan[3][peek_index])/cum))"
   ]
  },
  {
   "cell_type": "code",
   "execution_count": 28,
   "metadata": {},
   "outputs": [
    {
     "name": "stdout",
     "output_type": "stream",
     "text": [
      "Pos 0's raw win rate is 0.260\n",
      "Pos 1's raw win rate is 0.250\n",
      "Pos 2's raw win rate is 0.249\n",
      "Pos 3's raw win rate is 0.241\n",
      "Maximum Diff is 0.019159461305911837\n"
     ]
    }
   ],
   "source": [
    "cum=0\n",
    "for i in range(4):\n",
    "    cum+=cum_winner_fan_adj[i][peek_index]\n",
    "for i in range(4):\n",
    "    print(\"Pos {}'s raw win rate is {:.3f}\".format(i,cum_winner_fan_adj[i][peek_index]/cum))\n",
    "print(\"Maximum Diff is {}\".format((cum_winner_fan_adj[0][peek_index]-cum_winner_fan_adj[3][peek_index])/cum))"
   ]
  },
  {
   "cell_type": "markdown",
   "metadata": {},
   "source": [
    "### Conclusion: By Adding Completing Round Mechanism, initial position advantage can be decreased by ~60%."
   ]
  },
  {
   "cell_type": "code",
   "execution_count": null,
   "metadata": {},
   "outputs": [],
   "source": []
  }
 ],
 "metadata": {
  "kernelspec": {
   "display_name": "Python 3.8.10 64-bit",
   "language": "python",
   "name": "python3"
  },
  "language_info": {
   "codemirror_mode": {
    "name": "ipython",
    "version": 3
   },
   "file_extension": ".py",
   "mimetype": "text/x-python",
   "name": "python",
   "nbconvert_exporter": "python",
   "pygments_lexer": "ipython3",
   "version": "3.8.10"
  },
  "orig_nbformat": 4,
  "vscode": {
   "interpreter": {
    "hash": "916dbcbb3f70747c44a77c7bcd40155683ae19c65e1c03b4aa3499c5328201f1"
   }
  }
 },
 "nbformat": 4,
 "nbformat_minor": 2
}
