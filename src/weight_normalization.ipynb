{
 "cells": [
  {
   "cell_type": "code",
   "execution_count": 37,
   "metadata": {},
   "outputs": [],
   "source": [
    "import os\n",
    "import sys"
   ]
  },
  {
   "cell_type": "code",
   "execution_count": 78,
   "metadata": {},
   "outputs": [],
   "source": [
    "with open(\"name.txt\", \"r\") as f:\n",
    "    text_list = f.readlines()"
   ]
  },
  {
   "cell_type": "code",
   "execution_count": 39,
   "metadata": {},
   "outputs": [],
   "source": [
    "num_list = []\n",
    "for text in text_list:\n",
    "    num_list.append(float(text))"
   ]
  },
  {
   "cell_type": "code",
   "execution_count": 40,
   "metadata": {},
   "outputs": [],
   "source": [
    "min_num = min(num_list)"
   ]
  },
  {
   "cell_type": "code",
   "execution_count": 41,
   "metadata": {},
   "outputs": [
    {
     "data": {
      "text/plain": [
       "-0.026"
      ]
     },
     "execution_count": 41,
     "metadata": {},
     "output_type": "execute_result"
    }
   ],
   "source": [
    "min_num"
   ]
  },
  {
   "cell_type": "code",
   "execution_count": 42,
   "metadata": {},
   "outputs": [],
   "source": [
    "num_list_mod = []\n",
    "for num in num_list:\n",
    "    num_list_mod.append(num-min_num)"
   ]
  },
  {
   "cell_type": "code",
   "execution_count": 43,
   "metadata": {},
   "outputs": [],
   "source": [
    "num_sum = sum(num_list_mod)"
   ]
  },
  {
   "cell_type": "code",
   "execution_count": 44,
   "metadata": {},
   "outputs": [
    {
     "data": {
      "text/plain": [
       "5.0109999999999975"
      ]
     },
     "execution_count": 44,
     "metadata": {},
     "output_type": "execute_result"
    }
   ],
   "source": [
    "num_sum"
   ]
  },
  {
   "cell_type": "code",
   "execution_count": 45,
   "metadata": {},
   "outputs": [],
   "source": [
    "final_num_list = []\n",
    "for num in num_list_mod:\n",
    "    final_num_list.append(100*num/num_sum)"
   ]
  },
  {
   "cell_type": "code",
   "execution_count": 46,
   "metadata": {},
   "outputs": [],
   "source": [
    "with open(\"normed_tmp.txt\", 'w') as f:\n",
    "    for num in final_num_list:\n",
    "        f.write(\"{:.4f}\\n\".format(num))"
   ]
  },
  {
   "cell_type": "code",
   "execution_count": 53,
   "metadata": {},
   "outputs": [],
   "source": [
    "with open(\"tmp.txt\", \"r\") as f:\n",
    "    text_list = f.readlines()"
   ]
  },
  {
   "cell_type": "code",
   "execution_count": 60,
   "metadata": {},
   "outputs": [],
   "source": [
    "p1_freq = []\n",
    "p2_freq = []\n",
    "p1_weight= []\n",
    "p2_weight = []\n",
    "for text in text_list:\n",
    "    text_splited = text.split('\\t')\n",
    "    if len(text_splited)>2:\n",
    "        p1_freq.append(float(text_splited[0]))\n",
    "        p2_freq.append(float(text_splited[1]))\n",
    "        p1_weight.append(float(text_splited[5]))\n",
    "        p2_weight.append(float(text_splited[6]))"
   ]
  },
  {
   "cell_type": "code",
   "execution_count": 83,
   "metadata": {},
   "outputs": [
    {
     "name": "stdout",
     "output_type": "stream",
     "text": [
      "27 1.297 0.44999999999999996\n",
      "38 1.942 0.65\n",
      "40 2.095 0.63\n",
      "48 1.0400000000000003 0.2699999999999999\n",
      "49 5.081 0.31\n",
      "50 2.601 0.27\n",
      "51 -8.247 -1.24\n",
      "55 1.827 -0.55\n"
     ]
    }
   ],
   "source": [
    "p2_freq[47]=2.034\n",
    "for i in range(len(p1_weight)):\n",
    "    if abs(p1_freq[i]-p2_freq[i])>1:\n",
    "        print(i, p1_freq[i]-p2_freq[i], p1_weight[i]-p2_weight[i])"
   ]
  },
  {
   "cell_type": "code",
   "execution_count": 90,
   "metadata": {},
   "outputs": [
    {
     "data": {
      "text/plain": [
       "'FULLY CONCEALED HAND \\n'"
      ]
     },
     "execution_count": 90,
     "metadata": {},
     "output_type": "execute_result"
    }
   ],
   "source": [
    "text_list[55]"
   ]
  },
  {
   "cell_type": "code",
   "execution_count": null,
   "metadata": {},
   "outputs": [],
   "source": []
  }
 ],
 "metadata": {
  "kernelspec": {
   "display_name": "py36",
   "language": "python",
   "name": "python3"
  },
  "language_info": {
   "codemirror_mode": {
    "name": "ipython",
    "version": 3
   },
   "file_extension": ".py",
   "mimetype": "text/x-python",
   "name": "python",
   "nbconvert_exporter": "python",
   "pygments_lexer": "ipython3",
   "version": "3.10.9"
  }
 },
 "nbformat": 4,
 "nbformat_minor": 2
}
