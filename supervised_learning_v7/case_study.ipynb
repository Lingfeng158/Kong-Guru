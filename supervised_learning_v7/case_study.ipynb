{
 "cells": [
  {
   "cell_type": "code",
   "execution_count": 1,
   "metadata": {},
   "outputs": [],
   "source": [
    "# from predset_revised import MahjongSLpredset\n",
    "from dataset import MahjongSLDataset\n",
    "import numpy as np\n",
    "import pandas as pd\n",
    "from torch.utils.data import DataLoader\n",
    "import torch.nn.functional as F\n",
    "import os\n",
    "import torch\n",
    "from torch import nn\n",
    "\n",
    "# from model import predEntryModule\n",
    "from collections import defaultdict\n",
    "\n",
    "# from model_batched_MNN import MahJongNetBatchedRevised, TileProbModuleNew\n",
    "import feature\n",
    "import matplotlib.pyplot as plt\n",
    "import json\n",
    "import rule\n",
    "\n",
    "# from fanCalcLib import formMinComb_c\n",
    "import copy\n",
    "\n",
    "\n",
    "def default_zero():\n",
    "    return 0\n",
    "\n",
    "\n",
    "def default_list():\n",
    "    return []\n",
    "\n",
    "\n",
    "def default_one():\n",
    "    return 1\n",
    "\n",
    "\n",
    "def default_three_zeros():\n",
    "    return [0, 0, 0]\n",
    "\n",
    "\n",
    "plt.rcParams[\"font.sans-serif\"] = [\"SimHei\"]\n",
    "plt.rcParams[\"figure.figsize\"] = (15, 7)\n",
    "plt.rcParams[\"font.size\"] = 16\n",
    "\n",
    "# fmt:off\n",
    "tile_list_raw = ['B1', 'B2', 'B3', 'B4', 'B5', 'B6', 'B7', 'B8', 'B9',  # 饼\n",
    "                 'W1', 'W2', 'W3', 'W4', 'W5', 'W6', 'W7', 'W8', 'W9',  # 万\n",
    "                 'T1', 'T2', 'T3', 'T4', 'T5', 'T6', 'T7', 'T8', 'T9',  # 条\n",
    "                 'F1', 'F2', 'F3', 'F4', 'J1', 'J2', 'J3'  # 风、箭\n",
    "                 ]\n",
    "\n",
    "tile_list_raw_cn = [\"一饼\",\"二饼\",\"三饼\",\"四饼\",\"五饼\",\"六饼\",\"七饼\",\"八饼\",\"九饼\",  # 饼\n",
    "                 \"一万\",\"二万\",\"三万\",\"四万\",\"五万\",\"六万\",\"七万\",\"八万\",\"九万\",  # 万\n",
    "                 \"一条\", \"二条\", \"三条\", \"四条\", \"五条\", \"六条\", \"七条\", \"八条\", \"九条\",   # 条\n",
    "                 \"东风\", \"南风\",\"西风\",\"北风\", '中', '发', '白'  # 风、箭\n",
    "                 ]\n",
    "fan_list_raw = [\"大四喜\", \"大三元\", \"绿一色\", \"九莲宝灯\", \"四杠\", \"连七对\", \"十三幺\", \"清幺九\", \"小四喜\", \"小三元\", \"字一色\", \"四暗刻\", \"一色双龙会\",\n",
    "                \"一色四同顺\", \"一色四节高\", \"一色四步高\", \"三杠\", \"混幺九\", \"七对\", \"七星不靠\", \"全双刻\", \"清一色\", \"一色三同顺\", \"一色三节高\", \"全大\",\n",
    "                \"全中\", \"全小\", \"清龙\", \"三色双龙会\", \"一色三步高\", \"全带五\", \"三同刻\", \"三暗刻\", \"全不靠\", \"组合龙\", \"大于五\", \"小于五\", \"三风刻\", \"花龙\",\n",
    "                \"推不倒\", \"三色三同顺\", \"三色三节高\", \"无番和\", \"妙手回春\", \"海底捞月\", \"杠上开花\", \"抢杠和\",\n",
    "                \"碰碰和\", \"混一色\", \"三色三步高\", \"五门齐\", \"全求人\", \"双暗杠\", \"双箭刻\", \"全带幺\",\n",
    "                \"不求人\", \"双明杠\", \"和绝张\", \"箭刻\", \"圈风刻\", \"门风刻\", \"门前清\", \"平和\", \"四归一\",\n",
    "                \"双同刻\", \"双暗刻\", \"暗杠\", \"断幺\", \"一般高\", \"喜相逢\", \"连六\", \"老少副\", \"幺九刻\",\n",
    "                \"明杠\", \"缺一门\", \"无字\", \"边张\", \"嵌张\", \"单钓将\", \"自摸\"]\n",
    "\n",
    "fan_list_raw_en = [\"Big Four Winds\", \"Big Three Dragons\", \"All Green\", \"Nine Gates\", \"Four Kongs\", \"Seven Shifted Pairs\", \"Thirteen Orphans\", \"All Terminals\", \"Little Four Winds\", \"Little Three Dragons\",\n",
    "                   \"All Honor\", \"Four Concealed Pungs\", \"Pure Terminal Chows\", \"Quadruple Chow\", \"Four Pure Shifted Pungs\", \"Four Pure Shifted Chows\", \"Three Kongs\", \"All Terminals and Honors\", \n",
    "                   \"Seven Pairs\", \"Greater Honors and Knitted Tiles\", \"All Even Pungs\", \"Full Flush\", \"Pure Triple Chow\", \"Pure Shifted Pungs\", \"Upper Tiles\", \"Middle Tiles\", \"Lower Tiles\",\"Pure Straight\",\n",
    "                   \"Three-Suited Terminal Chows\", \"Pure Shifted Chows\", \"All Fives\", \"Triple Pung\", \"Three Concealed Pungs\", \"Lesser Honors and Knitted Tiles\", \"Knitted Straight\", \"Upper Five\", \"Lower Five\",\n",
    "                   \"Big Three Winds\", \"Mixed Straight\", \"Reversible Tiles\", \"Mixed Triple Chow\", \"Mixed Shifted Pungs\", \"Chicken Hand\", \"Last Tile Draw\", \"Last Tile Claim\", \"Out with Replacement Tile\", \"Robbing The Kong\",\n",
    "                    \"All Pungs\", \"Half Flush\", \"Mixed Shifted Chows\", \"All Types\", \"Melded Hand\",\"Two Concealed Kongs\", \"Two Dragons Pungs\", \"Outside Hand\", \"Fully Concealed Hand\", \"Two Melded Kongs\", \"Last Tile\", \n",
    "                   \"Dragon Pung\", \"Prevalent Wind\", \"Seat Wind\", \"Concealed Hand\", \"All Chows\", \"Tile Hog\", \"Double Pung\", \"Two Concealed Pungs\", \"Concealed Kong\", \"All Simples\", \"Pure Double Chow\", \"Mixed Double Chow\",\n",
    "                   \"Short Straight\", \"Two Terminal Chows\", \"Pung of Terminals or Honors\", \"Melded Kong\", \"One Voided Suit\", \"No Honors\", \"Edge Wait\", \"Closed Wait\", \"Single Waiting\", \"Self-Drawn\"\n",
    "]\n",
    "\n",
    "tile_list_conversion = {'B1':'D1', 'B2':'D2', 'B3':'D3', 'B4':'D4', 'B5':'D5', 'B6':'D6', 'B7':'D7', 'B8':'D8', 'B9':'D9',  # 饼\n",
    "                 'W1':'C1', 'W2':'C2', 'W3':'C3', 'W4':'C4', 'W5':'C5', 'W6':'C6', 'W7':'C7', 'W8':'C8', 'W9':'C9',  # 万\n",
    "                 'T1':'B1', 'T2':'B2', 'T3':'B3', 'T4':'B4', 'T5':'B5', 'T6':'B6', 'T7':'B7', 'T8':'B8', 'T9':'B9',  # 条\n",
    "                 'F1':'EW', 'F2':'SW', 'F3':'WW', 'F4':'NW', 'J1':'RD', 'J2':'GD', 'J3':'WD'  # 风、箭\n",
    "                 }\n",
    "# fmt:on"
   ]
  },
  {
   "cell_type": "code",
   "execution_count": 2,
   "metadata": {},
   "outputs": [
    {
     "data": {
      "text/plain": [
       "26"
      ]
     },
     "execution_count": 2,
     "metadata": {},
     "output_type": "execute_result"
    }
   ],
   "source": [
    "tile_list_raw.index(\"T9\")"
   ]
  },
  {
   "cell_type": "code",
   "execution_count": 3,
   "metadata": {},
   "outputs": [
    {
     "name": "stdout",
     "output_type": "stream",
     "text": [
      "56\n"
     ]
    }
   ],
   "source": [
    "id = fan_list_raw.index(\"双明杠\")\n",
    "print(id)"
   ]
  },
  {
   "cell_type": "code",
   "execution_count": 4,
   "metadata": {},
   "outputs": [
    {
     "data": {
      "text/plain": [
       "'Two Melded Kongs'"
      ]
     },
     "execution_count": 4,
     "metadata": {},
     "output_type": "execute_result"
    }
   ],
   "source": [
    "fan_list_raw_en[id]"
   ]
  },
  {
   "cell_type": "code",
   "execution_count": 5,
   "metadata": {},
   "outputs": [],
   "source": [
    "# change params here\n",
    "log_name = \"07_16_02_53_57-model_slim_rev6_normed2\"\n",
    "\n",
    "# typically leave as is\n",
    "logdir = \"../log/\"\n",
    "log_suffix = \"checkpoint\"\n",
    "extract_dir = \"extracted_model_slim_params\"\n",
    "weight_list = {\n",
    "    \"top1\": \"best_acc.pkl\",\n",
    "    \"top2\": \"best_acc_top2.pkl\",\n",
    "    \"top3\": \"best_acc_top3.pkl\",\n",
    "}"
   ]
  },
  {
   "cell_type": "code",
   "execution_count": 14,
   "metadata": {},
   "outputs": [],
   "source": [
    "class TileProbModuleNew(nn.Module):\n",
    "    \"\"\"\n",
    "    Computation for opponent_desire_prob, held_prob, discard_prob\n",
    "    \"\"\"\n",
    "\n",
    "    def __init__(self):\n",
    "        super(TileProbModuleNew, self).__init__()\n",
    "\n",
    "        self.final_layer = nn.Sequential(\n",
    "            nn.Linear(11, 1),\n",
    "        )\n",
    "\n",
    "    def forward(self, meta_feature, tile_wall_feature):\n",
    "        # input: meta (data[:4])\n",
    "\n",
    "        meta_feature_expanded = meta_feature.view(-1, 1, 6).repeat(1, 34, 1).view(-1, 6)\n",
    "        tile_wall_feature_flatten = tile_wall_feature.view(-1, 5)\n",
    "        concated_feature = torch.cat(\n",
    "            (meta_feature_expanded, tile_wall_feature_flatten), dim=1\n",
    "        )\n",
    "        # print(concated_feature.shape)\n",
    "\n",
    "        final = self.final_layer(concated_feature)\n",
    "        return final.view(-1, 34)\n",
    "\n",
    "\n",
    "def reversed_tile_conversion(list_rep, key_order_list):\n",
    "    ret_dict = defaultdict(default_zero)\n",
    "    for i in range(len(key_order_list)):\n",
    "        ret_dict[key_order_list[i]] += list_rep[i]\n",
    "    return ret_dict\n",
    "\n",
    "\n",
    "class MahJongNetBatchedRevised(nn.Module):\n",
    "    \"\"\"\n",
    "    This module computes data_prep ([32*4, 80, 32, 2]) object\n",
    "    \"\"\"\n",
    "\n",
    "    def __init__(self, device=\"cpu\"):\n",
    "        super(MahJongNetBatchedRevised, self).__init__()\n",
    "        self.device = device\n",
    "        self.fan_coeff = nn.Parameter(\n",
    "            torch.tensor(\n",
    "                [0.1 + torch.randn(1) * 0.015 for _ in range(80)],\n",
    "                requires_grad=True,\n",
    "            )\n",
    "        )\n",
    "        self.fan_coeff_multiplier = torch.tensor(\n",
    "            [1.0 for _ in range(80)], device=device\n",
    "        )\n",
    "        self.fan_coeff_multiplier[33] *= 21\n",
    "        self.tile_coeff = nn.Parameter(\n",
    "            torch.tensor(\n",
    "                [1.0 + torch.randn(1) * 0.015 for _ in range(34)], requires_grad=True\n",
    "            )\n",
    "        )\n",
    "        # self.QQR_pack_penalty = nn.Parameter(torch.tensor(0.1, requires_grad=True))\n",
    "\n",
    "        self.prob_module_throw = TileProbModuleNew().to(device)\n",
    "\n",
    "    def access_named_params(self):\n",
    "        return (\n",
    "            self.fan_coeff.detach().numpy(),\n",
    "            self.tile_coeff.detach().numpy(),\n",
    "            # self.QQR_pack_penalty.item(),\n",
    "        )\n",
    "\n",
    "    def access_fan(self):\n",
    "        return self.fan_coeff\n",
    "\n",
    "    def forward(self, x):\n",
    "        \"\"\"\n",
    "        @data_entry: n * 5 * 32 * (34*4, 80, 34, 2)\n",
    "        @held_prob: n * 5 * 32 * (34)\n",
    "        @discard_prob: n * 5 * 32 * (34)\n",
    "        \"\"\"\n",
    "\n",
    "        (meta_feature, tile_wall_feature, search_matrix) = x\n",
    "\n",
    "        prob_throw = self.prob_module_throw(meta_feature, tile_wall_feature)\n",
    "\n",
    "        (\n",
    "            tile_prep_data,\n",
    "            fan_prep,\n",
    "            missing_tile_prep_data,\n",
    "            count_prep,\n",
    "            chi_peng_count_remain_data,\n",
    "        ) = search_matrix\n",
    "\n",
    "        missing_tile_prep = missing_tile_prep_data.view(-1, 320, 34)\n",
    "        chi_peng_count_remain = chi_peng_count_remain_data.view(-1, 320)\n",
    "        tile_prep = tile_prep_data.view(-1, 320, 34, 7)\n",
    "        tile_self_draw_baseline = tile_prep[:, :, :, 0]\n",
    "        tile_need_count = tile_prep[:, :, :, 1]\n",
    "        tile_cp_coeff = tile_prep[:, :, :, 2]\n",
    "        tile_cp_base = tile_prep[:, :, :, 3]\n",
    "        tile_hidden_ct = tile_prep[:, :, :, 4]\n",
    "        tile_cp_switch = tile_prep[:, :, :, 5]\n",
    "        tile_null_filler = tile_prep[:, :, :, 6]\n",
    "\n",
    "        fan_prep_prime = 1 - fan_prep\n",
    "\n",
    "        # Throw operation\n",
    "        # fan preference\n",
    "        fan_pref = fan_prep * self.fan_coeff * self.fan_coeff_multiplier\n",
    "        multiplied_fan_pref_throw = torch.sum(fan_pref, dim=-1).view(\n",
    "            -1, 320\n",
    "        )  # n * 5 * 64\n",
    "\n",
    "        # tile probability (throw)\n",
    "        term1_throw = (\n",
    "            tile_self_draw_baseline * prob_throw.unsqueeze(1) ** tile_need_count\n",
    "        )\n",
    "        term2_throw = tile_cp_base * tile_cp_coeff / tile_hidden_ct  #\n",
    "        term2_throw_zeroed = torch.nan_to_num(term2_throw)\n",
    "        term3_throw = tile_null_filler\n",
    "        terms_summed_throw = (\n",
    "            term1_throw + term3_throw + term2_throw_zeroed * tile_cp_switch\n",
    "        )\n",
    "\n",
    "        multiplied_sum_throw = (\n",
    "            torch.prod(terms_summed_throw, -1) * 100 * multiplied_fan_pref_throw\n",
    "        )\n",
    "        final_prob_throw = (\n",
    "            multiplied_sum_throw  # * self.QQR_pack_penalty**chi_peng_count_remain\n",
    "        )\n",
    "\n",
    "        # distinguish by missing tile (Throw)\n",
    "        missing_tile_prob_throw = missing_tile_prep * final_prob_throw.unsqueeze(-1)\n",
    "        # missing_tile_prob_throw += tile_pref_from_fan\n",
    "\n",
    "        # combine 64 sub entries\n",
    "        # win-rate transfered to tile, judge tile by tile-bounded win-rate\n",
    "        missing_tile_prob_throw = missing_tile_prob_throw.view(-1, 5, 64, 34)\n",
    "        tile_bound_winrate_throw = missing_tile_prob_throw.sum(dim=-2)\n",
    "\n",
    "        # final tile-bounded prob\n",
    "        weighted_tile_prob = (tile_bound_winrate_throw * self.tile_coeff)[:, 0]\n",
    "\n",
    "        # combine 64 sub entries\n",
    "        # reshape\n",
    "        # final_prob: win rate for each 64 entries\n",
    "        final_prob_ops = final_prob_throw.view(-1, 5, 64)\n",
    "        # win-rate transfered to tile, judge tile by tile-bounded win-rate\n",
    "        missing_tile_prob_ops = missing_tile_prob_throw\n",
    "        tile_bound_winrate_ops = missing_tile_prob_ops.sum(dim=2)\n",
    "        final_prob_ops = final_prob_ops.sum(dim=-1)\n",
    "\n",
    "        # produce result\n",
    "        # final tile-bounded prob\n",
    "        max_tile_prob_for_action, e = torch.max(tile_bound_winrate_ops, dim=2)\n",
    "        max_tile_prob_for_action[:, 0] = final_prob_ops[:, 0]\n",
    "        # max_tile_prob_for_action *= self.chi_peng_coeff\n",
    "\n",
    "        # return (\n",
    "        #     max_tile_prob_for_action,\n",
    "        #     weighted_tile_prob,\n",
    "        # )\n",
    "\n",
    "        print(\n",
    "            missing_tile_prob_throw.shape,\n",
    "            fan_prep.shape,\n",
    "            missing_tile_prep.shape,\n",
    "            tile_need_count.shape,\n",
    "        )\n",
    "\n",
    "        return (\n",
    "            missing_tile_prob_throw[0, 0],\n",
    "            fan_prep,\n",
    "            missing_tile_prep.view(5, 64, 34),\n",
    "            tile_need_count.view(5, 64, 34),\n",
    "            tile_bound_winrate_throw[:,0,:]\n",
    "        )\n",
    "\n",
    "        # final tile-bounded prob\n",
    "        weighted_tile_prob = tile_bound_winrate_throw  # * self.tile_coeff  # - opponent_desire_prob.unsqueeze(1)\n",
    "\n",
    "        return weighted_tile_prob[:, 0, :]"
   ]
  },
  {
   "cell_type": "code",
   "execution_count": 15,
   "metadata": {},
   "outputs": [
    {
     "data": {
      "text/plain": [
       "<All keys matched successfully>"
      ]
     },
     "execution_count": 15,
     "metadata": {},
     "output_type": "execute_result"
    }
   ],
   "source": [
    "device = \"cpu\"\n",
    "net = MahJongNetBatchedRevised(device).to(device)\n",
    "# load model parameter from log\n",
    "net.load_state_dict(\n",
    "    torch.load(\n",
    "        os.path.join(logdir, log_name, log_suffix, weight_list[\"top1\"]),\n",
    "        map_location=torch.device(device),\n",
    "    )\n",
    ")"
   ]
  },
  {
   "cell_type": "code",
   "execution_count": 16,
   "metadata": {},
   "outputs": [
    {
     "data": {
      "text/plain": [
       "tensor([[True, True, True, True, True, True]])"
      ]
     },
     "execution_count": 16,
     "metadata": {},
     "output_type": "execute_result"
    }
   ],
   "source": [
    "path_to_ds = \"../tmp\"\n",
    "ds = MahjongSLDataset(path_to_ds, 0.0, 1)\n",
    "loader = DataLoader(dataset=ds, batch_size=1, shuffle=False, num_workers=4)\n",
    "d = next(iter(loader))\n",
    "d[1] == ds[0][1]"
   ]
  },
  {
   "cell_type": "code",
   "execution_count": 17,
   "metadata": {},
   "outputs": [],
   "source": [
    "(\n",
    "    meta,\n",
    "    meta_feature_new,\n",
    "    tile_wall_feature,\n",
    "    k,\n",
    "    q,\n",
    "    m,\n",
    "    n,\n",
    "    o,\n",
    "    # fan_summary,\n",
    "    label_action,\n",
    "    label_tile,\n",
    "    v_info,\n",
    ") = d\n",
    "\n",
    "(\n",
    "    meta,\n",
    "    meta_feature_new,\n",
    "    tile_wall_feature,\n",
    "    k,\n",
    "    q,\n",
    "    m,\n",
    "    n,\n",
    "    o,\n",
    "    # fan_summary,\n",
    "    label_action,\n",
    "    label_tile,\n",
    ") = (\n",
    "    meta.to(device),\n",
    "    meta_feature_new.to(device),\n",
    "    tile_wall_feature.to(device),\n",
    "    k.to(device),\n",
    "    q.to(device),\n",
    "    m.to(device),\n",
    "    n.to(device),\n",
    "    o.to(device),\n",
    "    # data_description.to(device).float(),\n",
    "    # fan_summary.to(device),\n",
    "    label_action.to(device),\n",
    "    label_tile.to(device),\n",
    ")\n",
    "data1 = (k, q, m, n, o)\n",
    "\n",
    "index_list_plus_one = torch.tensor([i + 1 for i in range(len(meta))]).to(device)\n",
    "x = (\n",
    "    meta_feature_new,\n",
    "    tile_wall_feature,\n",
    "    data1,\n",
    ")"
   ]
  },
  {
   "cell_type": "code",
   "execution_count": 18,
   "metadata": {},
   "outputs": [
    {
     "data": {
      "text/plain": [
       "torch.Size([6, 170, 76160, 25600, 10880, 640, 320])"
      ]
     },
     "execution_count": 18,
     "metadata": {},
     "output_type": "execute_result"
    }
   ],
   "source": [
    "meta_feature_new.view(-1).size()+tile_wall_feature.view(-1).size()+k.view(-1).size()+q.view(-1).size()+m.view(-1).size()+n.view(-1).size()+o.view(-1).size()"
   ]
  },
  {
   "cell_type": "code",
   "execution_count": 19,
   "metadata": {},
   "outputs": [
    {
     "data": {
      "text/plain": [
       "113776"
      ]
     },
     "execution_count": 19,
     "metadata": {},
     "output_type": "execute_result"
    }
   ],
   "source": [
    "sum([6, 170, 76160, 25600, 10880, 640, 320])"
   ]
  },
  {
   "cell_type": "code",
   "execution_count": 21,
   "metadata": {},
   "outputs": [
    {
     "name": "stdout",
     "output_type": "stream",
     "text": [
      "torch.Size([1, 5, 64, 34]) torch.Size([1, 5, 64, 80]) torch.Size([1, 320, 34]) torch.Size([1, 320, 34])\n"
     ]
    }
   ],
   "source": [
    "explosion, fan, throw, missing, tile = net(x)\n",
    "explosion *= 1 / torch.max(explosion)"
   ]
  },
  {
   "cell_type": "code",
   "execution_count": 31,
   "metadata": {},
   "outputs": [],
   "source": [
    "a=F.softmax(tile, dim=1)"
   ]
  },
  {
   "cell_type": "code",
   "execution_count": 33,
   "metadata": {},
   "outputs": [
    {
     "data": {
      "text/plain": [
       "tensor([[-6.2190, -4.9818, -6.2190, -6.2190, -6.2190, -6.2190, -2.4513, -6.2190,\n",
       "         -6.2190, -6.2190, -6.2190, -4.9818, -6.2190, -6.2190, -4.9818, -6.2190,\n",
       "         -6.2190, -1.4934, -5.3885, -6.2190, -6.2190, -6.2190, -6.2190, -1.8628,\n",
       "         -6.2190, -2.3863, -1.0779, -6.2190, -6.2190, -6.2190, -4.7058, -4.5095,\n",
       "         -6.2190, -4.3659]], grad_fn=<LogBackward0>)"
      ]
     },
     "execution_count": 33,
     "metadata": {},
     "output_type": "execute_result"
    }
   ],
   "source": [
    "torch.log(a)"
   ]
  },
  {
   "cell_type": "code",
   "execution_count": 11,
   "metadata": {},
   "outputs": [],
   "source": [
    "# Generate pandas dataframe\n",
    "out = explosion.detach().numpy()\n",
    "df = pd.DataFrame(out, columns=tile_list_raw)\n",
    "df.style.highlight_max(axis=0)\n",
    "df = df.round(4)\n",
    "# Fan list\n",
    "fan_list = []\n",
    "for sample in fan[0, 0]:\n",
    "    fan_list.append([fan_list_raw[i] for i in range(80) if sample[i] == 1])\n",
    "df[\"fan\"] = fan_list\n",
    "# Redundant/useless tile\n",
    "throw_list = []\n",
    "for sample in throw[0]:\n",
    "    throw_list.append([tile_list_raw[i] for i in range(34) if sample[i] == 1])\n",
    "df[\"discard_choice\"] = throw_list\n",
    "# Tiles in need\n",
    "tile_list = []\n",
    "for sample in missing[0]:\n",
    "    tmp_list = []\n",
    "    for i in range(34):\n",
    "        for _ in range(int(sample[i])):\n",
    "            tmp_list.append(tile_list_raw[i])\n",
    "    tile_list.append(tmp_list)\n",
    "df[\"missing\"] = tile_list\n",
    "# target\n",
    "# target_list = []\n",
    "# for i in range(64):\n",
    "#     hand_list = []\n",
    "#     if len(tile_list[i]) != 0 and len(throw_list[i]) != 0:\n",
    "#         hand_dict = handWall_log[line_id - 1][player_id]\n",
    "#         hand_list = [k for k in hand_dict.keys() for _ in range(hand_dict[k])]\n",
    "#         for t in tile_list[i]:\n",
    "#             hand_list.append(t)\n",
    "#         for t in throw_list[i]:\n",
    "#             hand_list.remove(t)\n",
    "#     target_list.append(copy.deepcopy(hand_list))\n",
    "# df[\"target\"] = target_list"
   ]
  },
  {
   "cell_type": "code",
   "execution_count": 12,
   "metadata": {},
   "outputs": [],
   "source": [
    "for key in tile_list_raw:\n",
    "    if sum(df[key]) == 0:\n",
    "        df.drop(key, axis=1, inplace=True)"
   ]
  },
  {
   "cell_type": "code",
   "execution_count": 27,
   "metadata": {},
   "outputs": [],
   "source": [
    "# Generate latex table for appendix\n",
    "df = pd.DataFrame()\n",
    "df[\"List of Fans\"] = [\n",
    "    \", \".join(\n",
    "        [\n",
    "            fan_list_raw_en[fan_list_raw.index(fan)]\n",
    "            for fan in fan_ent\n",
    "            if fan_list_raw.index(fan) < 58\n",
    "        ]\n",
    "    )\n",
    "    for fan_ent in fan_list\n",
    "]\n",
    "df[\"Prob\"] = [max(x) for x in out]\n",
    "df[\"B9\"] = out[:, 26]\n",
    "df[\"Count\"] = [len(x) for x in throw_list]\n",
    "df[\"Missing Tiles\"] = [\", \".join([tile_list_conversion[i] for i in x]) for x in tile_list]\n",
    "df[\"Redundant Tiles\"] = [\", \".join([tile_list_conversion[i] for i in x]) for x in throw_list]\n",
    "df = df.round(4)"
   ]
  },
  {
   "cell_type": "code",
   "execution_count": 30,
   "metadata": {},
   "outputs": [
    {
     "name": "stderr",
     "output_type": "stream",
     "text": [
      "/tmp/ipykernel_3517/2143978880.py:3: FutureWarning: In future versions `DataFrame.to_latex` is expected to utilise the base implementation of `Styler.to_latex` for formatting and rendering. The arguments signature may therefore change. It is recommended instead to use `DataFrame.style.to_latex` which also contains additional functionality.\n",
      "  df.to_latex(\n"
     ]
    }
   ],
   "source": [
    "with open(\"a.txt\", \"w+\") as f:\n",
    "    f.writelines(\n",
    "        df.to_latex(\n",
    "            index=True,\n",
    "            formatters={\"name\": str.upper},\n",
    "            float_format=\"{:.4f}\".format,\n",
    "        )\n",
    "    )"
   ]
  },
  {
   "cell_type": "code",
   "execution_count": 28,
   "metadata": {},
   "outputs": [
    {
     "name": "stdout",
     "output_type": "stream",
     "text": [
      "\\begin{tabular}{llrrrll}\n",
      "\\toprule\n",
      "{} &                          List of Fans &   Prob &     B9 &  Count &               Missing Tiles &         Redundant Tiles \\\\\n",
      "\\midrule\n",
      "0  &                      Knitted Straight & 0.1246 & 0.1246 &      5 &          D5, D7, B4, B7, B7 &      C9, B9, NW, RD, WD \\\\\n",
      "1  &                             All Types & 0.0043 & 0.0043 &      6 &      D6, B7, NW, NW, RD, RD &  D2, C3, C6, B1, B9, WD \\\\\n",
      "2  &                             All Types & 0.0043 & 0.0043 &      6 &      D6, B7, NW, NW, WD, WD &  D2, C3, C6, B1, B9, RD \\\\\n",
      "3  &                             All Types & 0.0044 & 0.0000 &      6 &      D6, B7, NW, NW, RD, RD &  D2, C3, C6, B1, B6, WD \\\\\n",
      "4  &                             All Types & 0.0044 & 0.0000 &      6 &      D6, B7, NW, NW, WD, WD &  D2, C3, C6, B1, B6, RD \\\\\n",
      "5  &                             All Types & 0.0044 & 0.0044 &      6 &      D9, B7, NW, NW, RD, RD &  D2, C3, C6, B1, B9, WD \\\\\n",
      "6  &                             All Types & 0.0044 & 0.0044 &      6 &      D9, B7, NW, NW, WD, WD &  D2, C3, C6, B1, B9, RD \\\\\n",
      "7  &               All Types, Outside Hand & 0.0093 & 0.0000 &      6 &      D9, B7, NW, NW, RD, RD &  D2, C3, C6, B1, B6, WD \\\\\n",
      "8  &               All Types, Outside Hand & 0.0093 & 0.0000 &      6 &      D9, B7, NW, NW, WD, WD &  D2, C3, C6, B1, B6, RD \\\\\n",
      "9  &                          Outside Hand & 0.0114 & 0.0000 &      6 &      D9, B2, B3, B7, RD, RD &  D2, C3, C6, B6, NW, WD \\\\\n",
      "10 &                          Outside Hand & 0.0114 & 0.0000 &      6 &      D9, B2, B3, B7, WD, WD &  D2, C3, C6, B6, NW, RD \\\\\n",
      "11 &                         Pure Straight & 0.0181 & 0.0000 &      6 &      D6, B2, B3, B4, B5, B7 &  D2, C3, C6, NW, RD, WD \\\\\n",
      "12 &                         Pure Straight & 0.0180 & 0.0000 &      6 &      D9, B2, B3, B4, B5, B7 &  D2, C3, C6, NW, RD, WD \\\\\n",
      "13 &                             All Types & 0.0051 & 0.0051 &      6 &      D6, C9, B7, NW, NW, RD &  D2, C3, C6, B1, B9, WD \\\\\n",
      "14 &                             All Types & 0.0065 & 0.0065 &      6 &      D6, C9, B7, NW, RD, RD &  D2, C3, C6, B1, B9, WD \\\\\n",
      "15 &                             All Types & 0.0065 & 0.0065 &      6 &      D6, C9, B7, NW, WD, WD &  D2, C3, C6, B1, B9, RD \\\\\n",
      "16 &                             All Types & 0.0052 & 0.0000 &      6 &      D6, C9, B7, NW, NW, RD &  D2, C3, C6, B1, B6, WD \\\\\n",
      "17 &                             All Types & 0.0066 & 0.0000 &      6 &      D6, C9, B7, NW, RD, RD &  D2, C3, C6, B1, B6, WD \\\\\n",
      "18 &                             All Types & 0.0066 & 0.0000 &      6 &      D6, C9, B7, NW, WD, WD &  D2, C3, C6, B1, B6, RD \\\\\n",
      "19 &                             All Types & 0.0052 & 0.0052 &      6 &      D9, C9, B7, NW, NW, RD &  D2, C3, C6, B1, B9, WD \\\\\n",
      "20 &                             All Types & 0.0067 & 0.0067 &      6 &      D9, C9, B7, NW, RD, RD &  D2, C3, C6, B1, B9, WD \\\\\n",
      "21 &                             All Types & 0.0067 & 0.0067 &      6 &      D9, C9, B7, NW, WD, WD &  D2, C3, C6, B1, B9, RD \\\\\n",
      "22 &               All Types, Outside Hand & 0.0126 & 0.0000 &      6 &      D9, C9, B7, NW, NW, RD &  D2, C3, C6, B1, B6, WD \\\\\n",
      "23 &               All Types, Outside Hand & 0.0141 & 0.0000 &      6 &      D9, C9, B7, NW, RD, RD &  D2, C3, C6, B1, B6, WD \\\\\n",
      "24 &               All Types, Outside Hand & 0.0141 & 0.0000 &      6 &      D9, C9, B7, NW, WD, WD &  D2, C3, C6, B1, B6, RD \\\\\n",
      "25 &       Lesser Honors and Knitted Tiles & 1.0000 & 1.0000 &      5 &  D5, B4, B7, EW, SW, WW, GD &      D7, C9, B6, B8, B9 \\\\\n",
      "26 &                  Fully Concealed Hand & 0.0010 & 0.0010 &      6 &      D6, B1, B1, B7, NW, NW &  D2, C3, C6, B9, RD, WD \\\\\n",
      "27 &                  Fully Concealed Hand & 0.0016 & 0.0016 &      6 &      D6, B1, B1, B7, RD, RD &  D2, C3, C6, B9, NW, WD \\\\\n",
      "28 &                  Fully Concealed Hand & 0.0016 & 0.0016 &      6 &      D6, B1, B1, B7, WD, WD &  D2, C3, C6, B9, NW, RD \\\\\n",
      "29 &                  Fully Concealed Hand & 0.0021 & 0.0000 &      6 &      D6, B6, B6, B7, RD, RD &  D2, C3, C6, B1, NW, WD \\\\\n",
      "30 &                  Fully Concealed Hand & 0.0021 & 0.0000 &      6 &      D6, B6, B6, B7, WD, WD &  D2, C3, C6, B1, NW, RD \\\\\n",
      "31 &                  Fully Concealed Hand & 0.0010 & 0.0000 &      6 &      D6, B7, B9, B9, NW, NW &  D2, C3, C6, B1, RD, WD \\\\\n",
      "32 &                  Fully Concealed Hand & 0.0016 & 0.0000 &      6 &      D6, B7, B9, B9, RD, RD &  D2, C3, C6, B1, NW, WD \\\\\n",
      "33 &                  Fully Concealed Hand & 0.0016 & 0.0000 &      6 &      D6, B7, B9, B9, WD, WD &  D2, C3, C6, B1, NW, RD \\\\\n",
      "34 &                  Fully Concealed Hand & 0.0015 & 0.0015 &      6 &      D9, B1, B1, B7, NW, NW &  D2, C3, C6, B9, RD, WD \\\\\n",
      "35 &                  Fully Concealed Hand & 0.0021 & 0.0021 &      6 &      D9, B1, B1, B7, RD, RD &  D2, C3, C6, B9, NW, WD \\\\\n",
      "36 &                  Fully Concealed Hand & 0.0021 & 0.0021 &      6 &      D9, B1, B1, B7, WD, WD &  D2, C3, C6, B9, NW, RD \\\\\n",
      "37 &                  Fully Concealed Hand & 0.0014 & 0.0000 &      6 &      D9, B6, B6, B7, NW, NW &  D2, C3, C6, B1, RD, WD \\\\\n",
      "38 &                  Fully Concealed Hand & 0.0021 & 0.0000 &      6 &      D9, B6, B6, B7, RD, RD &  D2, C3, C6, B1, NW, WD \\\\\n",
      "39 &                  Fully Concealed Hand & 0.0021 & 0.0000 &      6 &      D9, B6, B6, B7, WD, WD &  D2, C3, C6, B1, NW, RD \\\\\n",
      "40 &                  Fully Concealed Hand & 0.0015 & 0.0000 &      6 &      D9, B7, B9, B9, NW, NW &  D2, C3, C6, B1, RD, WD \\\\\n",
      "41 &                  Fully Concealed Hand & 0.0021 & 0.0000 &      6 &      D9, B7, B9, B9, RD, RD &  D2, C3, C6, B1, NW, WD \\\\\n",
      "42 &                  Fully Concealed Hand & 0.0021 & 0.0000 &      6 &      D9, B7, B9, B9, WD, WD &  D2, C3, C6, B1, NW, RD \\\\\n",
      "43 &                  Fully Concealed Hand & 0.0046 & 0.0000 &      6 &      D9, B4, B5, B7, RD, RD &  D2, C3, C6, B1, NW, WD \\\\\n",
      "44 &                  Fully Concealed Hand & 0.0046 & 0.0000 &      6 &      D9, B4, B5, B7, WD, WD &  D2, C3, C6, B1, NW, RD \\\\\n",
      "45 &    Outside Hand, Fully Concealed Hand & 0.0094 & 0.0000 &      6 &      D9, B2, B3, B7, NW, NW &  D2, C3, C6, B6, RD, WD \\\\\n",
      "46 &                  Fully Concealed Hand & 0.0055 & 0.0000 &      6 &      D6, B2, B3, B7, B7, B8 &  D2, C3, C6, NW, RD, WD \\\\\n",
      "47 &                  Fully Concealed Hand & 0.0035 & 0.0000 &      6 &      D9, B1, B1, B4, B5, B7 &  D2, C3, C6, NW, RD, WD \\\\\n",
      "48 &                  Fully Concealed Hand & 0.0064 & 0.0000 &      6 &      D9, B2, B3, B5, B7, B7 &  D2, C3, C6, NW, RD, WD \\\\\n",
      "49 &                  Fully Concealed Hand & 0.0055 & 0.0000 &      6 &      D9, B2, B3, B7, B7, B8 &  D2, C3, C6, NW, RD, WD \\\\\n",
      "50 &                           Seven Pairs & 0.0173 & 0.0173 &      6 &      D2, D7, D8, C3, C6, B1 &  B6, B8, B9, NW, RD, WD \\\\\n",
      "51 &                  Fully Concealed Hand & 0.0014 & 0.0000 &      6 &      D6, B6, B6, B7, NW, NW &  D2, C3, C6, B1, RD, WD \\\\\n",
      "52 &                  Fully Concealed Hand & 0.0044 & 0.0044 &      6 &      D6, B2, B3, B7, RD, RD &  D2, C3, C6, B9, NW, WD \\\\\n",
      "53 &                  Fully Concealed Hand & 0.0044 & 0.0044 &      6 &      D6, B2, B3, B7, WD, WD &  D2, C3, C6, B9, NW, RD \\\\\n",
      "54 &                  Fully Concealed Hand & 0.0046 & 0.0000 &      6 &      D6, B4, B5, B7, RD, RD &  D2, C3, C6, B1, NW, WD \\\\\n",
      "55 &                  Fully Concealed Hand & 0.0046 & 0.0000 &      6 &      D6, B4, B5, B7, WD, WD &  D2, C3, C6, B1, NW, RD \\\\\n",
      "56 &         Knitted Straight, Melded Hand & 0.1296 & 0.1296 &      5 &          D5, D7, B4, B7, B7 &      C9, B9, NW, RD, WD \\\\\n",
      "57 &                All Types, Melded Hand & 0.0050 & 0.0050 &      6 &      D6, B7, NW, NW, RD, RD &  D2, C3, C6, B1, B9, WD \\\\\n",
      "58 &                All Types, Melded Hand & 0.0050 & 0.0050 &      6 &      D6, B7, NW, NW, WD, WD &  D2, C3, C6, B1, B9, RD \\\\\n",
      "59 &                All Types, Melded Hand & 0.0051 & 0.0000 &      6 &      D6, B7, NW, NW, RD, RD &  D2, C3, C6, B1, B6, WD \\\\\n",
      "60 &                All Types, Melded Hand & 0.0051 & 0.0000 &      6 &      D6, B7, NW, NW, WD, WD &  D2, C3, C6, B1, B6, RD \\\\\n",
      "61 &                All Types, Melded Hand & 0.0051 & 0.0051 &      6 &      D9, B7, NW, NW, RD, RD &  D2, C3, C6, B1, B9, WD \\\\\n",
      "62 &                All Types, Melded Hand & 0.0051 & 0.0051 &      6 &      D9, B7, NW, NW, WD, WD &  D2, C3, C6, B1, B9, RD \\\\\n",
      "63 &  All Types, Melded Hand, Outside Hand & 0.0100 & 0.0000 &      6 &      D9, B7, NW, NW, RD, RD &  D2, C3, C6, B1, B6, WD \\\\\n",
      "\\bottomrule\n",
      "\\end{tabular}\n",
      "\n"
     ]
    },
    {
     "name": "stderr",
     "output_type": "stream",
     "text": [
      "/tmp/ipykernel_3517/3161601294.py:2: FutureWarning: In future versions `DataFrame.to_latex` is expected to utilise the base implementation of `Styler.to_latex` for formatting and rendering. The arguments signature may therefore change. It is recommended instead to use `DataFrame.style.to_latex` which also contains additional functionality.\n",
      "  df.to_latex(\n"
     ]
    }
   ],
   "source": [
    "print(\n",
    "    df.to_latex(\n",
    "        index=True,\n",
    "        formatters={\"name\": str.upper},\n",
    "        float_format=\"{:.4f}\".format,\n",
    "    )\n",
    ")"
   ]
  },
  {
   "cell_type": "code",
   "execution_count": null,
   "metadata": {},
   "outputs": [],
   "source": []
  },
  {
   "cell_type": "code",
   "execution_count": 29,
   "metadata": {},
   "outputs": [],
   "source": [
    "df = df.style.set_properties(subset=\"T9\", **{\"background-color\": \"green\"})\n",
    "# ).set_properties(\n",
    "#     subset=predicted_observation, **{\"background-color\": \"red\", \"color\": \"white\"}\n",
    "# )"
   ]
  },
  {
   "cell_type": "code",
   "execution_count": 30,
   "metadata": {},
   "outputs": [],
   "source": [
    "s = [\"<HTML>\"]\n",
    "s.append(\"<HEAD><TITLE>WorkSheet</TITLE></HEAD>\")\n",
    "s.append(\"<BODY>\")\n",
    "# s.append(df.to_html())\n",
    "s.append(df.to_html())\n",
    "s.append(\"</BODY></HTML>\")\n",
    "html = \"\".join(s)\n",
    "html_file = open(\"case_study.html\", \"w\")\n",
    "html_file.write(html)\n",
    "html_file.close()"
   ]
  },
  {
   "cell_type": "code",
   "execution_count": 34,
   "metadata": {},
   "outputs": [
    {
     "data": {
      "text/plain": [
       "-1.0584229154237987"
      ]
     },
     "execution_count": 34,
     "metadata": {},
     "output_type": "execute_result"
    }
   ],
   "source": [
    "# test1\n",
    "-46128.1875/43582"
   ]
  },
  {
   "cell_type": "code",
   "execution_count": 35,
   "metadata": {},
   "outputs": [
    {
     "data": {
      "text/plain": [
       "-1.4402893169310458"
      ]
     },
     "execution_count": 35,
     "metadata": {},
     "output_type": "execute_result"
    }
   ],
   "source": [
    "#human\n",
    "-8898.1074/6178"
   ]
  },
  {
   "cell_type": "code",
   "execution_count": 36,
   "metadata": {},
   "outputs": [
    {
     "data": {
      "text/plain": [
       "-0.24708256647608676"
      ]
     },
     "execution_count": 36,
     "metadata": {},
     "output_type": "execute_result"
    }
   ],
   "source": [
    "#7p\n",
    "-2722.6028/11019"
   ]
  },
  {
   "cell_type": "code",
   "execution_count": null,
   "metadata": {},
   "outputs": [],
   "source": []
  }
 ],
 "metadata": {
  "kernelspec": {
   "display_name": "base",
   "language": "python",
   "name": "python3"
  },
  "language_info": {
   "codemirror_mode": {
    "name": "ipython",
    "version": 3
   },
   "file_extension": ".py",
   "mimetype": "text/x-python",
   "name": "python",
   "nbconvert_exporter": "python",
   "pygments_lexer": "ipython3",
   "version": "3.10.9"
  },
  "orig_nbformat": 4,
  "vscode": {
   "interpreter": {
    "hash": "47f873a0a3f5c080b5a3f0a6af68425945f18820793032958ff2e1d94c43b050"
   }
  }
 },
 "nbformat": 4,
 "nbformat_minor": 2
}
