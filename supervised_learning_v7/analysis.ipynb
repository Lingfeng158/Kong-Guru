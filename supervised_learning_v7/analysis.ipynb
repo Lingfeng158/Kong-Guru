{
 "cells": [
  {
   "cell_type": "code",
   "execution_count": 4,
   "metadata": {},
   "outputs": [],
   "source": [
    "import numpy as np\n",
    "from torch.utils.data import DataLoader\n",
    "from model_slim import MahJongNetBatchedRevised\n",
    "import torch.nn.functional as F\n",
    "import torch\n",
    "import os\n",
    "import copy\n",
    "import itertools\n",
    "import matplotlib.pyplot as plt\n",
    "import json\n",
    "from torch import nn\n",
    "\n",
    "\n",
    "# from model import DataEntryModule\n",
    "from collections import defaultdict\n",
    "\n",
    "\n",
    "def default_zero():\n",
    "    return 0\n",
    "\n",
    "\n",
    "plt.rcParams[\"font.sans-serif\"] = [\"SimHei\"]\n",
    "plt.rcParams[\"figure.figsize\"] = (15, 7)\n",
    "plt.rcParams[\"font.size\"] = 16\n",
    "\n",
    "\n",
    "# fmt:off\n",
    "tile_list_raw = ['B1', 'B2', 'B3', 'B4', 'B5', 'B6', 'B7', 'B8', 'B9',  # 饼\n",
    "                 'W1', 'W2', 'W3', 'W4', 'W5', 'W6', 'W7', 'W8', 'W9',  # 万\n",
    "                 'T1', 'T2', 'T3', 'T4', 'T5', 'T6', 'T7', 'T8', 'T9',  # 条\n",
    "                 'F1', 'F2', 'F3', 'F4', 'J1', 'J2', 'J3'  # 风、箭\n",
    "                 ]\n",
    "fan_list_raw = [\"大四喜\", \"大三元\", \"绿一色\", \"九莲宝灯\", \"四杠\", \"连七对\", \"十三幺\", \"清幺九\", \"小四喜\", \"小三元\", \"字一色\", \"四暗刻\", \"一色双龙会\",\n",
    "                \"一色四同顺\", \"一色四节高\", \"一色四步高\", \"三杠\", \"混幺九\", \"七对\", \"七星不靠\", \"全双刻\", \"清一色\", \"一色三同顺\", \"一色三节高\", \"全大\",\n",
    "                \"全中\", \"全小\", \"清龙\", \"三色双龙会\", \"一色三步高\", \"全带五\", \"三同刻\", \"三暗刻\", \"全不靠\", \"组合龙\", \"大于五\", \"小于五\", \"三风刻\", \"花龙\",\n",
    "                \"推不倒\", \"三色三同顺\", \"三色三节高\", \"无番和\", \"妙手回春\", \"海底捞月\", \"杠上开花\", \"抢杠和\",\n",
    "                \"碰碰和\", \"混一色\", \"三色三步高\", \"五门齐\", \"全求人\", \"双暗杠\", \"双箭刻\", \"全带幺\",\n",
    "                \"不求人\", \"双明杠\", \"和绝张\", \"箭刻\", \"圈风刻\", \"门风刻\", \"门前清\", \"平和\", \"四归一\",\n",
    "                \"双同刻\", \"双暗刻\", \"暗杠\", \"断幺\", \"一般高\", \"喜相逢\", \"连六\", \"老少副\", \"幺九刻\",\n",
    "                \"明杠\", \"缺一门\", \"无字\", \"边张\", \"嵌张\", \"单钓将\", \"自摸\"]\n",
    "# fmt:on"
   ]
  },
  {
   "cell_type": "code",
   "execution_count": 5,
   "metadata": {},
   "outputs": [],
   "source": [
    "def reversed_tile_conversion(list_rep, key_order_list):\n",
    "    ret_dict = defaultdict(default_zero)\n",
    "    for i in range(len(key_order_list)):\n",
    "        ret_dict[key_order_list[i]] += list_rep[i]\n",
    "    return ret_dict"
   ]
  },
  {
   "cell_type": "code",
   "execution_count": 6,
   "metadata": {},
   "outputs": [
    {
     "data": {
      "text/plain": [
       "126"
      ]
     },
     "execution_count": 6,
     "metadata": {},
     "output_type": "execute_result"
    }
   ],
   "source": [
    "def count_param(model):\n",
    "    param_count = 0\n",
    "    for param in model.parameters():\n",
    "        param_count += param.view(-1).size()[0]\n",
    "    return param_count\n",
    "\n",
    "\n",
    "device = \"cpu\"\n",
    "net = MahJongNetBatchedRevised(device).to(device)\n",
    "count_param(net)"
   ]
  },
  {
   "cell_type": "code",
   "execution_count": 52,
   "metadata": {},
   "outputs": [
    {
     "data": {
      "text/plain": [
       "<All keys matched successfully>"
      ]
     },
     "execution_count": 52,
     "metadata": {},
     "output_type": "execute_result"
    }
   ],
   "source": [
    "# change params here\n",
    "log_name = \"07_16_02_53_57-model_slim_rev6_normed2\"\n",
    "# log_name = \"07_21_18_38_42-model_slim_sbot1_restricted\"\n",
    "\n",
    "# typically leave as is\n",
    "logdir = \"../log/\"\n",
    "log_suffix = \"checkpoint\"\n",
    "extract_dir = \"extracted_model_slim_params\"\n",
    "weight_list = {\n",
    "    \"top1\": \"best_acc.pkl\",\n",
    "    \"top2\": \"best_acc_top2.pkl\",\n",
    "    \"top3\": \"best_acc_top3.pkl\",\n",
    "}\n",
    "\n",
    "# load model parameter from log\n",
    "net.load_state_dict(\n",
    "    torch.load(\n",
    "        os.path.join(logdir, log_name, log_suffix, weight_list[\"top2\"]),\n",
    "        map_location=torch.device(device),\n",
    "    )\n",
    ")"
   ]
  },
  {
   "cell_type": "code",
   "execution_count": 51,
   "metadata": {},
   "outputs": [],
   "source": [
    "fan_output_human = reversed_tile_conversion(\n",
    "    net.fan_coeff.detach().numpy(), fan_list_raw\n",
    ")"
   ]
  },
  {
   "cell_type": "code",
   "execution_count": 53,
   "metadata": {},
   "outputs": [],
   "source": [
    "fan_output_general = reversed_tile_conversion(\n",
    "    net.fan_coeff.detach().numpy(), fan_list_raw\n",
    ")"
   ]
  },
  {
   "cell_type": "code",
   "execution_count": 28,
   "metadata": {},
   "outputs": [],
   "source": [
    "with open(\"statistics_general.json\") as f:\n",
    "    distribution = json.load(f)\n",
    "sum_fan = sum(distribution.values())\n",
    "distribution_general = defaultdict(default_zero)\n",
    "for k in distribution.keys():\n",
    "    distribution_general[k] = distribution[k] / sum_fan * 100"
   ]
  },
  {
   "cell_type": "code",
   "execution_count": 29,
   "metadata": {},
   "outputs": [],
   "source": [
    "with open(\"statistics_#sbot1.json\") as f:\n",
    "    distribution = json.load(f)\n",
    "sum_fan = sum(distribution.values())\n",
    "distribution_human = defaultdict(default_zero)\n",
    "for k in distribution.keys():\n",
    "    distribution_human[k] = distribution[k] / sum_fan * 100"
   ]
  },
  {
   "cell_type": "code",
   "execution_count": 32,
   "metadata": {},
   "outputs": [],
   "source": [
    "# The following is used to generate comparison between p2 and p3\n",
    "dist_diff = {}\n",
    "for k in distribution.keys():\n",
    "    dist_diff[k] = distribution_human[k] - distribution_general[k]"
   ]
  },
  {
   "cell_type": "code",
   "execution_count": 38,
   "metadata": {},
   "outputs": [],
   "source": [
    "dist_diff_sorted = sorted(dist_diff.items(), key=lambda item: -item[1])"
   ]
  },
  {
   "cell_type": "code",
   "execution_count": 65,
   "metadata": {},
   "outputs": [],
   "source": [
    "sorted_dist_dict = defaultdict(default_zero)\n",
    "for ent in dist_diff_sorted:\n",
    "    sorted_dist_dict[ent[0]] = ent[1]"
   ]
  },
  {
   "cell_type": "code",
   "execution_count": 54,
   "metadata": {},
   "outputs": [],
   "source": [
    "fan_diff = {}\n",
    "for k in fan_output_general.keys():\n",
    "    fan_diff[k] = fan_output_human[k] - fan_output_general[k]"
   ]
  },
  {
   "cell_type": "code",
   "execution_count": 56,
   "metadata": {},
   "outputs": [],
   "source": [
    "fan_diff_sorted = sorted(fan_diff.items(), key=lambda item: -item[1])"
   ]
  },
  {
   "cell_type": "code",
   "execution_count": 59,
   "metadata": {},
   "outputs": [],
   "source": [
    "sorted_fan_dict = {}\n",
    "for ent in fan_diff_sorted:\n",
    "    sorted_fan_dict[ent[0]] = ent[1]"
   ]
  },
  {
   "cell_type": "code",
   "execution_count": 63,
   "metadata": {},
   "outputs": [
    {
     "data": {
      "text/plain": [
       "{'花牌': 26.441393144952098,\n",
       " '全求人': 8.24735361839788,\n",
       " '缺一门': 4.2490248508918524,\n",
       " '明杠': 2.327854306652484,\n",
       " '无字': 2.148391132646491,\n",
       " '幺九刻': 2.136596030305677,\n",
       " '碰碰和': 1.0154679381081289,\n",
       " '和绝张': 0.8936430504712087,\n",
       " '双同刻': 0.6948347509839247,\n",
       " '四归一': 0.657028666945046,\n",
       " '杠上开花': 0.4115165677318359,\n",
       " '双明杠': 0.3229309548762948,\n",
       " '明暗杠': 0.16764088816050082,\n",
       " '抢杠和': 0.1439266782671583,\n",
       " '海底捞月': 0.12169098153664981,\n",
       " '一色三节高': 0.11046940818210213,\n",
       " '双箭刻': 0.07681786977482241,\n",
       " '门风刻': 0.0724825108746805,\n",
       " '圈风刻': 0.06096939833813875,\n",
       " '三色三节高': 0.049416467435190445,\n",
       " '三杠': 0.0403745737200992,\n",
       " '暗杠': 0.0390012404108534,\n",
       " '妙手回春': 0.028872006508648074,\n",
       " '三风刻': 0.011295117232864308,\n",
       " '一色四节高': 0.006352679589963476,\n",
       " '三同刻': 0.004448721144865282,\n",
       " '小四喜': 0.0034586518175215297,\n",
       " '双暗杠': 0.0029649353194859734,\n",
       " '全中': 0.00014181509408805418,\n",
       " '一色三同顺': -0.0009874329960711126,\n",
       " '四暗刻': -0.0009874329960711126,\n",
       " '混幺九': -0.0033168367234334755,\n",
       " '一般高': -0.004700441960452384,\n",
       " '全大': -0.009314978578176817,\n",
       " '全小': -0.01100885071341557,\n",
       " '一色四步高': -0.014044693579945564,\n",
       " '全带五': -0.0261827923835203,\n",
       " '清一色': -0.03208893604103852,\n",
       " '小三元': -0.04227589583392475,\n",
       " '推不倒': -0.08440470391121617,\n",
       " '三暗刻': -0.12392838706678704,\n",
       " '大于五': -0.24729478641976715,\n",
       " '小于五': -0.283782626708808,\n",
       " '箭刻': -0.32045309640571285,\n",
       " '无番和': -0.37113644795187434,\n",
       " '双暗刻': -0.454818894736287,\n",
       " '单钓将': -0.6084646328163881,\n",
       " '全带幺': -0.6471851527676552,\n",
       " '老少副': -0.657174934509728,\n",
       " '一色三步高': -0.6878852645789757,\n",
       " '七对': -0.7582165486635644,\n",
       " '混一色': -1.039199235333794,\n",
       " '断幺': -1.113230346726401,\n",
       " '清龙': -1.297062155991711,\n",
       " '连六': -1.5052186127744474,\n",
       " '边张': -1.633932624594363,\n",
       " '不求人': -1.8276118537130233,\n",
       " '花龙': -1.9424983470647195,\n",
       " '三色三同顺': -2.0953670118559256,\n",
       " '五门齐': -2.6008945278618314,\n",
       " '喜相逢': -2.9044959018471537,\n",
       " '自摸': -3.0604452271365252,\n",
       " '门前清': -3.703781375302891,\n",
       " '嵌张': -4.458948626046244,\n",
       " '三色三步高': -5.080452611922233,\n",
       " '平和': -8.610641864378152}"
      ]
     },
     "execution_count": 63,
     "metadata": {},
     "output_type": "execute_result"
    }
   ],
   "source": [
    "sorted_dist_dict"
   ]
  },
  {
   "cell_type": "code",
   "execution_count": 61,
   "metadata": {},
   "outputs": [
    {
     "data": {
      "text/plain": [
       "0.008627901086583734"
      ]
     },
     "execution_count": 61,
     "metadata": {},
     "output_type": "execute_result"
    }
   ],
   "source": [
    "sorted_fan_dict[\"缺一门\"]"
   ]
  },
  {
   "cell_type": "code",
   "execution_count": 73,
   "metadata": {},
   "outputs": [
    {
     "name": "stdout",
     "output_type": "stream",
     "text": [
      "全求人 0.03837879002094269 8.24735361839788\n",
      "平和 -0.022124250885099173 -8.610641864378152\n",
      "五门齐 -0.05007448198739439 -2.6008945278618314\n",
      "三色三步高 -0.051378440111875534 -5.080452611922233\n",
      "混一色 -0.05782352760434151 -1.039199235333794\n",
      "清龙 -0.05981228733435273 -1.297062155991711\n",
      "三色三同顺 -0.0705284234136343 -2.0953670118559256\n",
      "花龙 -0.07963741989806294 -1.9424983470647195\n"
     ]
    }
   ],
   "source": [
    "ordered_list = []\n",
    "for f in sorted_fan_dict.keys():\n",
    "    if (\n",
    "        sorted_fan_dict[f] * sorted_dist_dict[f] > 0\n",
    "        and abs(sorted_dist_dict[f]) > 1\n",
    "        and abs(sorted_fan_dict[f]) > 0.02\n",
    "    ):\n",
    "        print(f, sorted_fan_dict[f], sorted_dist_dict[f])\n",
    "        ordered_list.append(f)"
   ]
  },
  {
   "cell_type": "code",
   "execution_count": 87,
   "metadata": {},
   "outputs": [
    {
     "name": "stdout",
     "output_type": "stream",
     "text": [
      "0.05169188231229782 -0.002661252859979868 1.1185202333026554 2.1339881714107842\n"
     ]
    }
   ],
   "source": [
    "fan_name = \"碰碰和\"\n",
    "print(\n",
    "    fan_output_general[fan_name],\n",
    "    fan_output_human[fan_name],\n",
    "    distribution_general[fan_name],\n",
    "    distribution_human[fan_name],\n",
    ")"
   ]
  },
  {
   "cell_type": "code",
   "execution_count": 72,
   "metadata": {},
   "outputs": [
    {
     "name": "stdout",
     "output_type": "stream",
     "text": [
      "自摸 0.021901805535890162 -3.0604452271365252\n",
      "碰碰和 -0.05435313517227769 1.0154679381081289\n"
     ]
    }
   ],
   "source": [
    "reverse_ordered_list = []\n",
    "for f in sorted_fan_dict.keys():\n",
    "    if (\n",
    "        sorted_fan_dict[f] * sorted_dist_dict[f] < 0\n",
    "        and abs(sorted_dist_dict[f]) > 1\n",
    "        and abs(sorted_fan_dict[f]) > 0.02\n",
    "    ):\n",
    "        print(f, sorted_fan_dict[f], sorted_dist_dict[f])\n",
    "        reverse_ordered_list.append(f)"
   ]
  },
  {
   "cell_type": "code",
   "execution_count": null,
   "metadata": {},
   "outputs": [],
   "source": []
  }
 ],
 "metadata": {
  "kernelspec": {
   "display_name": "base",
   "language": "python",
   "name": "python3"
  },
  "language_info": {
   "codemirror_mode": {
    "name": "ipython",
    "version": 3
   },
   "file_extension": ".py",
   "mimetype": "text/x-python",
   "name": "python",
   "nbconvert_exporter": "python",
   "pygments_lexer": "ipython3",
   "version": "3.10.9"
  },
  "orig_nbformat": 4,
  "vscode": {
   "interpreter": {
    "hash": "47f873a0a3f5c080b5a3f0a6af68425945f18820793032958ff2e1d94c43b050"
   }
  }
 },
 "nbformat": 4,
 "nbformat_minor": 2
}
