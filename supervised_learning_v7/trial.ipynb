{
 "cells": [
  {
   "cell_type": "code",
   "execution_count": 1,
   "metadata": {},
   "outputs": [],
   "source": [
    "from dataset import MahjongSLDataset\n",
    "from model_slim import MahJongNetBatchedRevised\n",
    "import numpy as np\n",
    "from torch.utils.data import DataLoader\n",
    "import torch.nn.functional as F\n",
    "import torch\n",
    "import os\n",
    "from torch import nn\n",
    "from tqdm import tqdm\n",
    "\n",
    "# from model import DataEntryModule\n",
    "from collections import defaultdict\n",
    "\n",
    "# from model_batched_MNN import MahJongNetBatchedRevised, TileProbModuleNew\n",
    "from torch.optim.lr_scheduler import (\n",
    "    SequentialLR,\n",
    "    LambdaLR,\n",
    "    CosineAnnealingWarmRestarts,\n",
    "    ConstantLR,\n",
    "    ExponentialLR,\n",
    ")\n",
    "import copy\n",
    "import itertools\n",
    "import matplotlib.pyplot as plt\n",
    "import json\n",
    "import feature\n",
    "\n",
    "\n",
    "def default_zero():\n",
    "    return 0\n",
    "\n",
    "\n",
    "plt.rcParams[\"font.sans-serif\"] = [\"SimHei\"]\n",
    "plt.rcParams[\"figure.figsize\"] = (15, 7)\n",
    "plt.rcParams[\"font.size\"] = 16\n",
    "\n",
    "\n",
    "# fmt:off\n",
    "tile_list_raw = ['B1', 'B2', 'B3', 'B4', 'B5', 'B6', 'B7', 'B8', 'B9',  # 饼\n",
    "                 'W1', 'W2', 'W3', 'W4', 'W5', 'W6', 'W7', 'W8', 'W9',  # 万\n",
    "                 'T1', 'T2', 'T3', 'T4', 'T5', 'T6', 'T7', 'T8', 'T9',  # 条\n",
    "                 'F1', 'F2', 'F3', 'F4', 'J1', 'J2', 'J3'  # 风、箭\n",
    "                 ]\n",
    "fan_list_raw = [\"大四喜\", \"大三元\", \"绿一色\", \"九莲宝灯\", \"四杠\", \"连七对\", \"十三幺\", \"清幺九\", \"小四喜\", \"小三元\", \"字一色\", \"四暗刻\", \"一色双龙会\",\n",
    "                \"一色四同顺\", \"一色四节高\", \"一色四步高\", \"三杠\", \"混幺九\", \"七对\", \"七星不靠\", \"全双刻\", \"清一色\", \"一色三同顺\", \"一色三节高\", \"全大\",\n",
    "                \"全中\", \"全小\", \"清龙\", \"三色双龙会\", \"一色三步高\", \"全带五\", \"三同刻\", \"三暗刻\", \"全不靠\", \"组合龙\", \"大于五\", \"小于五\", \"三风刻\", \"花龙\",\n",
    "                \"推不倒\", \"三色三同顺\", \"三色三节高\", \"无番和\", \"妙手回春\", \"海底捞月\", \"杠上开花\", \"抢杠和\",\n",
    "                \"碰碰和\", \"混一色\", \"三色三步高\", \"五门齐\", \"全求人\", \"双暗杠\", \"双箭刻\", \"全带幺\",\n",
    "                \"不求人\", \"双明杠\", \"和绝张\", \"箭刻\", \"圈风刻\", \"门风刻\", \"门前清\", \"平和\", \"四归一\",\n",
    "                \"双同刻\", \"双暗刻\", \"暗杠\", \"断幺\", \"一般高\", \"喜相逢\", \"连六\", \"老少副\", \"幺九刻\",\n",
    "                \"明杠\", \"缺一门\", \"无字\", \"边张\", \"嵌张\", \"单钓将\", \"自摸\"]\n",
    "# fmt:on"
   ]
  },
  {
   "cell_type": "code",
   "execution_count": 2,
   "metadata": {},
   "outputs": [],
   "source": [
    "def reversed_tile_conversion(list_rep, key_order_list):\n",
    "    ret_dict = defaultdict(default_zero)\n",
    "    for i in range(len(key_order_list)):\n",
    "        ret_dict[key_order_list[i]] += list_rep[i]\n",
    "    return ret_dict"
   ]
  },
  {
   "cell_type": "code",
   "execution_count": 2,
   "metadata": {},
   "outputs": [
    {
     "data": {
      "text/plain": [
       "114"
      ]
     },
     "execution_count": 2,
     "metadata": {},
     "output_type": "execute_result"
    }
   ],
   "source": [
    "def count_param(model):\n",
    "    param_count = 0\n",
    "    for param in model.parameters():\n",
    "        param_count += param.view(-1).size()[0]\n",
    "    return param_count\n",
    "\n",
    "\n",
    "device = \"cpu\"\n",
    "net = MahJongNetBatchedRevised(device).to(device)\n",
    "count_param(net)"
   ]
  },
  {
   "cell_type": "code",
   "execution_count": 3,
   "metadata": {},
   "outputs": [
    {
     "data": {
      "text/plain": [
       "200562"
      ]
     },
     "execution_count": 3,
     "metadata": {},
     "output_type": "execute_result"
    }
   ],
   "source": [
    "from model_TFx_OB_v6_ls import MahJongNetBatchedRevised\n",
    "def count_param(model):\n",
    "    param_count = 0\n",
    "    for param in model.parameters():\n",
    "        param_count += param.view(-1).size()[0]\n",
    "    return param_count\n",
    "\n",
    "\n",
    "device = \"cpu\"\n",
    "net = MahJongNetBatchedRevised(device).to(device)\n",
    "count_param(net)"
   ]
  },
  {
   "cell_type": "code",
   "execution_count": 4,
   "metadata": {},
   "outputs": [
    {
     "data": {
      "text/plain": [
       "<All keys matched successfully>"
      ]
     },
     "execution_count": 4,
     "metadata": {},
     "output_type": "execute_result"
    }
   ],
   "source": [
    "# change params here\n",
    "log_name = \"07_16_02_53_57-model_slim_rev6_normed2\"\n",
    "\n",
    "# typically leave as is\n",
    "logdir = \"../log/\"\n",
    "log_suffix = \"checkpoint\"\n",
    "extract_dir = \"extracted_model_slim_params\"\n",
    "weight_list = {\n",
    "    \"top1\": \"best_acc.pkl\",\n",
    "    \"top2\": \"best_acc_top2.pkl\",\n",
    "    \"top3\": \"best_acc_top3.pkl\",\n",
    "}\n",
    "# create path for model parameter extraction\n",
    "extract_path = os.path.join(extract_dir, \"top2\")\n",
    "if not os.path.isdir(extract_path):\n",
    "    os.makedirs(extract_path)\n",
    "\n",
    "# load model parameter from log\n",
    "net.load_state_dict(\n",
    "    torch.load(\n",
    "        os.path.join(logdir, log_name, log_suffix, weight_list[\"top2\"]),\n",
    "        map_location=torch.device(device),\n",
    "    )\n",
    ")"
   ]
  },
  {
   "cell_type": "code",
   "execution_count": 14,
   "metadata": {},
   "outputs": [],
   "source": [
    "fan_output = reversed_tile_conversion(net.fan_coeff.detach().numpy(), fan_list_raw)"
   ]
  },
  {
   "cell_type": "code",
   "execution_count": 15,
   "metadata": {},
   "outputs": [],
   "source": [
    "fan_output = sorted(fan_output.items(), key=lambda x: -x[1])"
   ]
  },
  {
   "cell_type": "code",
   "execution_count": 18,
   "metadata": {},
   "outputs": [
    {
     "data": {
      "text/plain": [
       "[('十三幺', 1.0015867948532104),\n",
       " ('全不靠', 0.6198009848594666),\n",
       " ('清幺九', 0.3847324252128601),\n",
       " ('组合龙', 0.3242482841014862),\n",
       " ('大四喜', 0.30645227432250977),\n",
       " ('九莲宝灯', 0.30010512471199036),\n",
       " ('七对', 0.2564011514186859),\n",
       " ('一色四同顺', 0.21450115740299225),\n",
       " ('四暗刻', 0.17405714094638824),\n",
       " ('绿一色', 0.16177420318126678),\n",
       " ('小四喜', 0.15118086338043213),\n",
       " ('一色双龙会', 0.13844110071659088),\n",
       " ('全小', 0.12439137697219849),\n",
       " ('海底捞月', 0.123080775141716),\n",
       " ('无番和', 0.12171602249145508),\n",
       " ('三色双龙会', 0.11615011096000671),\n",
       " ('四杠', 0.1100180596113205),\n",
       " ('杠上开花', 0.10616981238126755),\n",
       " ('推不倒', 0.10579821467399597),\n",
       " ('一色三节高', 0.10329914093017578),\n",
       " ('大于五', 0.09802407026290894),\n",
       " ('三同刻', 0.09150362759828568),\n",
       " ('妙手回春', 0.09031521528959274),\n",
       " ('清一色', 0.09017141908407211),\n",
       " ('抢杠和', 0.08968039602041245),\n",
       " ('七星不靠', 0.08460734784603119),\n",
       " ('花龙', 0.08459737151861191),\n",
       " ('三色三节高', 0.08418107032775879),\n",
       " ('小于五', 0.07953164726495743),\n",
       " ('门前清', 0.07840710878372192),\n",
       " ('全带幺', 0.07794518768787384),\n",
       " ('全大', 0.0767446905374527),\n",
       " ('混一色', 0.07610460370779037),\n",
       " ('小三元', 0.06664802879095078),\n",
       " ('一色三步高', 0.061188705265522),\n",
       " ('一色四步高', 0.05850198119878769),\n",
       " ('三色三同顺', 0.05830611288547516),\n",
       " ('连七对', 0.05602487176656723),\n",
       " ('清龙', 0.054295189678668976),\n",
       " ('大三元', 0.054162755608558655),\n",
       " ('碰碰和', 0.05169188231229782),\n",
       " ('五门齐', 0.051226090639829636),\n",
       " ('一色三同顺', 0.048625651746988297),\n",
       " ('三色三步高', 0.04801885783672333),\n",
       " ('双明杠', 0.046800121665000916),\n",
       " ('双箭刻', 0.034469157457351685),\n",
       " ('全双刻', 0.030763061717152596),\n",
       " ('三风刻', 0.028787584975361824),\n",
       " ('和绝张', 0.02673058770596981),\n",
       " ('全中', 0.024895038455724716),\n",
       " ('三暗刻', 0.023916203528642654),\n",
       " ('一色四节高', 0.021921589970588684),\n",
       " ('不求人', 0.02107732556760311),\n",
       " ('边张', 0.020380206406116486),\n",
       " ('字一色', 0.016726067289710045),\n",
       " ('平和', 0.014392674900591373),\n",
       " ('明杠', 0.011928041465580463),\n",
       " ('双同刻', 0.01178356446325779),\n",
       " ('全求人', 0.01176106184720993),\n",
       " ('断幺', 0.009475771337747574),\n",
       " ('门风刻', 0.009035077877342701),\n",
       " ('圈风刻', 0.007778459694236517),\n",
       " ('双暗杠', 0.006802151445299387),\n",
       " ('幺九刻', 0.006275616120547056),\n",
       " ('无字', 0.006092689465731382),\n",
       " ('一般高', 0.004864830989390612),\n",
       " ('嵌张', 0.0044944873079657555),\n",
       " ('三杠', 0.004318213555961847),\n",
       " ('暗杠', 0.0024097764398902655),\n",
       " ('单钓将', -4.831363548873924e-05),\n",
       " ('连六', -0.001169600640423596),\n",
       " ('自摸', -0.0013053069123998284),\n",
       " ('喜相逢', -0.0013196553336456418),\n",
       " ('四归一', -0.0018960360903292894),\n",
       " ('箭刻', -0.0020093917846679688),\n",
       " ('混幺九', -0.002907463116571307),\n",
       " ('缺一门', -0.0036517104599624872),\n",
       " ('老少副', -0.004834651947021484),\n",
       " ('双暗刻', -0.009100936353206635),\n",
       " ('全带五', -0.009240786544978619)]"
      ]
     },
     "execution_count": 18,
     "metadata": {},
     "output_type": "execute_result"
    }
   ],
   "source": [
    "fan_output"
   ]
  },
  {
   "cell_type": "code",
   "execution_count": 11,
   "metadata": {},
   "outputs": [],
   "source": [
    "tile_output = reversed_tile_conversion(net.tile_coeff.detach().numpy(), tile_list_raw)"
   ]
  },
  {
   "cell_type": "code",
   "execution_count": 12,
   "metadata": {},
   "outputs": [],
   "source": [
    "tile_output = sorted(tile_output.items(), key=lambda x: -x[1])"
   ]
  },
  {
   "cell_type": "code",
   "execution_count": 13,
   "metadata": {},
   "outputs": [
    {
     "data": {
      "text/plain": [
       "[('J3', 1.067261815071106),\n",
       " ('J2', 1.0413070917129517),\n",
       " ('J1', 1.026802897453308),\n",
       " ('F4', 0.989987850189209),\n",
       " ('F3', 0.9676172137260437),\n",
       " ('F1', 0.9501000642776489),\n",
       " ('F2', 0.9354256391525269),\n",
       " ('W8', 0.8719266653060913),\n",
       " ('W5', 0.8695725202560425),\n",
       " ('W9', 0.8673602938652039),\n",
       " ('W2', 0.8654977083206177),\n",
       " ('W1', 0.8652534484863281),\n",
       " ('T3', 0.8609082102775574),\n",
       " ('B9', 0.86046302318573),\n",
       " ('W3', 0.8592910170555115),\n",
       " ('W4', 0.8553491234779358),\n",
       " ('W7', 0.8547901511192322),\n",
       " ('T1', 0.8493829369544983),\n",
       " ('T2', 0.8435449600219727),\n",
       " ('W6', 0.8431706428527832),\n",
       " ('B3', 0.8396374583244324),\n",
       " ('T4', 0.8283160328865051),\n",
       " ('T5', 0.8252464532852173),\n",
       " ('T7', 0.8227099180221558),\n",
       " ('T6', 0.8167823553085327),\n",
       " ('B8', 0.8153514862060547),\n",
       " ('B7', 0.8137266039848328),\n",
       " ('B5', 0.809043288230896),\n",
       " ('T9', 0.808642566204071),\n",
       " ('B4', 0.8079805374145508),\n",
       " ('T8', 0.8060420155525208),\n",
       " ('B6', 0.8037850260734558),\n",
       " ('B1', 0.8004127740859985),\n",
       " ('B2', 0.7946748733520508)]"
      ]
     },
     "execution_count": 13,
     "metadata": {},
     "output_type": "execute_result"
    }
   ],
   "source": [
    "tile_output"
   ]
  },
  {
   "cell_type": "code",
   "execution_count": 5,
   "metadata": {},
   "outputs": [],
   "source": [
    "path_to_ds = \"../tmp\"\n",
    "ds = MahjongSLDataset(path_to_ds, 0.0, 1)\n",
    "loader = DataLoader(dataset=ds, batch_size=1, shuffle=False, num_workers=4)"
   ]
  },
  {
   "cell_type": "code",
   "execution_count": 6,
   "metadata": {},
   "outputs": [],
   "source": [
    "d = next(iter(loader))"
   ]
  },
  {
   "cell_type": "code",
   "execution_count": 7,
   "metadata": {},
   "outputs": [
    {
     "data": {
      "text/plain": [
       "tensor([[True, True, True, True, True, True]])"
      ]
     },
     "execution_count": 7,
     "metadata": {},
     "output_type": "execute_result"
    }
   ],
   "source": [
    "d[1] == ds[0][1]"
   ]
  },
  {
   "cell_type": "code",
   "execution_count": 8,
   "metadata": {},
   "outputs": [],
   "source": [
    "path_to_data = \"../data\"\n",
    "data_name = \"0.npy\"\n",
    "(\n",
    "    botzone_log,  # 1\n",
    "    tileWall_log,  # 2\n",
    "    pack_log,  # 3\n",
    "    handWall_log,  # 4\n",
    "    obsWall_log,  # 5\n",
    "    remaining_tile_log,  # 6\n",
    "    botzone_id,  # 7\n",
    "    winner_id,  # 8\n",
    "    prevailing_wind,  # 9\n",
    "    fan_sum,  # 10\n",
    "    score,\n",
    "    fan_list,  # 11\n",
    ") = feature.load_log(path_to_data, data_name)"
   ]
  },
  {
   "cell_type": "code",
   "execution_count": 9,
   "metadata": {},
   "outputs": [],
   "source": [
    "(\n",
    "    meta,\n",
    "    meta_feature_new,\n",
    "    tile_wall_feature,\n",
    "    k,\n",
    "    q,\n",
    "    m,\n",
    "    n,\n",
    "    o,\n",
    "    # fan_summary,\n",
    "    label_action,\n",
    "    label_tile,\n",
    "    v_info,\n",
    ") = d\n",
    "\n",
    "(\n",
    "    meta,\n",
    "    meta_feature_new,\n",
    "    tile_wall_feature,\n",
    "    k,\n",
    "    q,\n",
    "    m,\n",
    "    n,\n",
    "    o,\n",
    "    # fan_summary,\n",
    "    label_action,\n",
    "    label_tile,\n",
    ") = (\n",
    "    meta.to(device),\n",
    "    meta_feature_new.to(device),\n",
    "    tile_wall_feature.to(device),\n",
    "    k.to(device),\n",
    "    q.to(device),\n",
    "    m.to(device),\n",
    "    n.to(device),\n",
    "    o.to(device),\n",
    "    # data_description.to(device).float(),\n",
    "    # fan_summary.to(device),\n",
    "    label_action.to(device),\n",
    "    label_tile.to(device),\n",
    ")\n",
    "data1 = (k, q, m, n, o)\n",
    "\n",
    "index_list_plus_one = torch.tensor([i + 1 for i in range(len(meta))]).to(device)\n",
    "x = (\n",
    "    meta_feature_new,\n",
    "    tile_wall_feature,\n",
    "    data1,\n",
    ")"
   ]
  },
  {
   "cell_type": "code",
   "execution_count": 10,
   "metadata": {},
   "outputs": [],
   "source": [
    "(meta_feature, tile_wall_feature, search_matrix) = x\n",
    "\n",
    "(\n",
    "    tile_prep_data,\n",
    "    fan_prep,\n",
    "    missing_tile_prep_data,\n",
    "    count_prep,\n",
    "    chi_peng_count_remain_data,\n",
    ") = search_matrix"
   ]
  },
  {
   "cell_type": "code",
   "execution_count": 11,
   "metadata": {},
   "outputs": [],
   "source": [
    "action, tile = net(x)"
   ]
  },
  {
   "cell_type": "code",
   "execution_count": 12,
   "metadata": {},
   "outputs": [],
   "source": [
    "network_output_dict = reversed_tile_conversion(tile[0], tile_list_raw)\n",
    "for key in tile_list_raw:\n",
    "    if network_output_dict[key] == 0.0:\n",
    "        del network_output_dict[key]"
   ]
  },
  {
   "cell_type": "code",
   "execution_count": 13,
   "metadata": {},
   "outputs": [
    {
     "data": {
      "text/plain": [
       "defaultdict(<function __main__.default_zero()>,\n",
       "            {'B2': tensor(1.1318, grad_fn=<AddBackward0>),\n",
       "             'B7': tensor(3.6527, grad_fn=<AddBackward0>),\n",
       "             'W3': tensor(1.2274, grad_fn=<AddBackward0>),\n",
       "             'W6': tensor(1.2103, grad_fn=<AddBackward0>),\n",
       "             'W9': tensor(5.2198, grad_fn=<AddBackward0>),\n",
       "             'T1': tensor(0.9428, grad_fn=<AddBackward0>),\n",
       "             'T6': tensor(5.1672, grad_fn=<AddBackward0>),\n",
       "             'T8': tensor(4.5847, grad_fn=<AddBackward0>),\n",
       "             'T9': tensor(6.1355, grad_fn=<AddBackward0>),\n",
       "             'F4': tensor(1.7701, grad_fn=<AddBackward0>),\n",
       "             'J1': tensor(2.0272, grad_fn=<AddBackward0>),\n",
       "             'J3': tensor(2.2050, grad_fn=<AddBackward0>)})"
      ]
     },
     "execution_count": 13,
     "metadata": {},
     "output_type": "execute_result"
    }
   ],
   "source": [
    "network_output_dict"
   ]
  },
  {
   "cell_type": "code",
   "execution_count": null,
   "metadata": {},
   "outputs": [],
   "source": []
  }
 ],
 "metadata": {
  "kernelspec": {
   "display_name": "base",
   "language": "python",
   "name": "python3"
  },
  "language_info": {
   "codemirror_mode": {
    "name": "ipython",
    "version": 3
   },
   "file_extension": ".py",
   "mimetype": "text/x-python",
   "name": "python",
   "nbconvert_exporter": "python",
   "pygments_lexer": "ipython3",
   "version": "3.10.9"
  },
  "orig_nbformat": 4,
  "vscode": {
   "interpreter": {
    "hash": "47f873a0a3f5c080b5a3f0a6af68425945f18820793032958ff2e1d94c43b050"
   }
  }
 },
 "nbformat": 4,
 "nbformat_minor": 2
}
