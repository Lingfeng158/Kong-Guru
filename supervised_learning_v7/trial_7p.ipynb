{
 "cells": [
  {
   "cell_type": "code",
   "execution_count": 1,
   "metadata": {},
   "outputs": [],
   "source": [
    "from dataset import MahjongSLDataset\n",
    "from model_slim import MahJongNetBatchedRevised\n",
    "import numpy as np\n",
    "from torch.utils.data import DataLoader\n",
    "import torch.nn.functional as F\n",
    "import torch\n",
    "import os\n",
    "from torch import nn\n",
    "from tqdm import tqdm\n",
    "import pandas as pd\n",
    "\n",
    "# from model import DataEntryModule\n",
    "from collections import defaultdict\n",
    "\n",
    "# from model_batched_MNN import MahJongNetBatchedRevised, TileProbModuleNew\n",
    "from torch.optim.lr_scheduler import (\n",
    "    SequentialLR,\n",
    "    LambdaLR,\n",
    "    CosineAnnealingWarmRestarts,\n",
    "    ConstantLR,\n",
    "    ExponentialLR,\n",
    ")\n",
    "import copy\n",
    "import itertools\n",
    "import matplotlib.pyplot as plt\n",
    "import json\n",
    "import feature\n",
    "\n",
    "\n",
    "def default_zero():\n",
    "    return 0\n",
    "\n",
    "\n",
    "plt.rcParams[\"font.sans-serif\"] = [\"SimHei\"]\n",
    "plt.rcParams[\"figure.figsize\"] = (15, 7)\n",
    "plt.rcParams[\"font.size\"] = 16\n",
    "\n",
    "\n",
    "# fmt:off\n",
    "tile_list_raw = ['B1', 'B2', 'B3', 'B4', 'B5', 'B6', 'B7', 'B8', 'B9',  # 饼\n",
    "                 'W1', 'W2', 'W3', 'W4', 'W5', 'W6', 'W7', 'W8', 'W9',  # 万\n",
    "                 'T1', 'T2', 'T3', 'T4', 'T5', 'T6', 'T7', 'T8', 'T9',  # 条\n",
    "                 'F1', 'F2', 'F3', 'F4', 'J1', 'J2', 'J3'  # 风、箭\n",
    "                 ]\n",
    "fan_list_raw = [\"大四喜\", \"大三元\", \"绿一色\", \"九莲宝灯\", \"四杠\", \"连七对\", \"十三幺\", \"清幺九\", \"小四喜\", \"小三元\", \"字一色\", \"四暗刻\", \"一色双龙会\",\n",
    "                \"一色四同顺\", \"一色四节高\", \"一色四步高\", \"三杠\", \"混幺九\", \"七对\", \"七星不靠\", \"全双刻\", \"清一色\", \"一色三同顺\", \"一色三节高\", \"全大\",\n",
    "                \"全中\", \"全小\", \"清龙\", \"三色双龙会\", \"一色三步高\", \"全带五\", \"三同刻\", \"三暗刻\", \"全不靠\", \"组合龙\", \"大于五\", \"小于五\", \"三风刻\", \"花龙\",\n",
    "                \"推不倒\", \"三色三同顺\", \"三色三节高\", \"无番和\", \"妙手回春\", \"海底捞月\", \"杠上开花\", \"抢杠和\",\n",
    "                \"碰碰和\", \"混一色\", \"三色三步高\", \"五门齐\", \"全求人\", \"双暗杠\", \"双箭刻\", \"全带幺\",\n",
    "                \"不求人\", \"双明杠\", \"和绝张\", \"箭刻\", \"圈风刻\", \"门风刻\", \"门前清\", \"平和\", \"四归一\",\n",
    "                \"双同刻\", \"双暗刻\", \"暗杠\", \"断幺\", \"一般高\", \"喜相逢\", \"连六\", \"老少副\", \"幺九刻\",\n",
    "                \"明杠\", \"缺一门\", \"无字\", \"边张\", \"嵌张\", \"单钓将\", \"自摸\"]\n",
    "\n",
    "tile_list_conversion = {'B1':'D1', 'B2':'D2', 'B3':'D3', 'B4':'D4', 'B5':'D5', 'B6':'D6', 'B7':'D7', 'B8':'D8', 'B9':'D9',  # 饼\n",
    "                 'W1':'C1', 'W2':'C2', 'W3':'C3', 'W4':'C4', 'W5':'C5', 'W6':'C6', 'W7':'C7', 'W8':'C8', 'W9':'C9',  # 万\n",
    "                 'T1':'B1', 'T2':'B2', 'T3':'B3', 'T4':'B4', 'T5':'B5', 'T6':'B6', 'T7':'B7', 'T8':'B8', 'T9':'B9',  # 条\n",
    "                 'F1':'EW', 'F2':'SW', 'F3':'WW', 'F4':'NW', 'J1':'RD', 'J2':'GD', 'J3':'WD'  # 风、箭\n",
    "                 }\n",
    "# fmt:on"
   ]
  },
  {
   "cell_type": "code",
   "execution_count": 2,
   "metadata": {},
   "outputs": [],
   "source": [
    "def reversed_tile_conversion(list_rep, key_order_list):\n",
    "    ret_dict = defaultdict(default_zero)\n",
    "    for i in range(len(key_order_list)):\n",
    "        ret_dict[key_order_list[i]] += list_rep[i]\n",
    "    return ret_dict"
   ]
  },
  {
   "cell_type": "code",
   "execution_count": 3,
   "metadata": {},
   "outputs": [
    {
     "data": {
      "text/plain": [
       "126"
      ]
     },
     "execution_count": 3,
     "metadata": {},
     "output_type": "execute_result"
    }
   ],
   "source": [
    "def count_param(model):\n",
    "    param_count = 0\n",
    "    for param in model.parameters():\n",
    "        param_count += param.view(-1).size()[0]\n",
    "    return param_count\n",
    "\n",
    "\n",
    "device = \"cpu\"\n",
    "net = MahJongNetBatchedRevised(device).to(device)\n",
    "count_param(net)"
   ]
  },
  {
   "cell_type": "code",
   "execution_count": 4,
   "metadata": {},
   "outputs": [
    {
     "data": {
      "text/plain": [
       "<All keys matched successfully>"
      ]
     },
     "execution_count": 4,
     "metadata": {},
     "output_type": "execute_result"
    }
   ],
   "source": [
    "# change params here\n",
    "log_name = \"07_22_03_21_12-model_slim_7p_normed\"\n",
    "\n",
    "# typically leave as is\n",
    "logdir = \"../log/\"\n",
    "log_suffix = \"checkpoint\"\n",
    "extract_dir = \"extracted_model_slim_params\"\n",
    "weight_list = {\n",
    "    \"top1\": \"best_acc.pkl\",\n",
    "    \"top2\": \"best_acc_top2.pkl\",\n",
    "    \"top3\": \"best_acc_top3.pkl\",\n",
    "}\n",
    "\n",
    "# load model parameter from log\n",
    "net.load_state_dict(\n",
    "    torch.load(\n",
    "        os.path.join(logdir, log_name, log_suffix, weight_list[\"top1\"]),\n",
    "        map_location=torch.device(device),\n",
    "    )\n",
    ")"
   ]
  },
  {
   "cell_type": "code",
   "execution_count": 5,
   "metadata": {},
   "outputs": [
    {
     "data": {
      "text/plain": [
       "OrderedDict([('final_layer.0.weight',\n",
       "              tensor([[13.2868, -2.4386, -6.8902,  3.7414,  4.2955,  4.2075,  0.0544,  0.3670,\n",
       "                       -1.7708,  0.5356,  0.4127]])),\n",
       "             ('final_layer.0.bias', tensor([3.9621]))])"
      ]
     },
     "execution_count": 5,
     "metadata": {},
     "output_type": "execute_result"
    }
   ],
   "source": [
    "net.prob_module_throw.state_dict()"
   ]
  },
  {
   "cell_type": "code",
   "execution_count": 6,
   "metadata": {},
   "outputs": [],
   "source": [
    "fan_output = reversed_tile_conversion(net.fan_coeff.detach().numpy(), fan_list_raw)"
   ]
  },
  {
   "cell_type": "code",
   "execution_count": 7,
   "metadata": {},
   "outputs": [],
   "source": [
    "fan_output = sorted(fan_output.items(), key=lambda x: -x[1])"
   ]
  },
  {
   "cell_type": "code",
   "execution_count": 8,
   "metadata": {},
   "outputs": [
    {
     "data": {
      "text/plain": [
       "[('七对', 8.898839950561523),\n",
       " ('一色双龙会', 1.2458250522613525),\n",
       " ('一色四节高', 0.6864998936653137),\n",
       " ('组合龙', 0.19646704196929932),\n",
       " ('十三幺', 0.1776566207408905),\n",
       " ('全双刻', 0.12358742207288742),\n",
       " ('海底捞月', 0.123080775141716),\n",
       " ('无番和', 0.12171602249145508),\n",
       " ('大四喜', 0.1164558157324791),\n",
       " ('四暗刻', 0.11355960369110107),\n",
       " ('全大', 0.11242605000734329),\n",
       " ('四杠', 0.1100180596113205),\n",
       " ('杠上开花', 0.10616981238126755),\n",
       " ('暗杠', 0.09763997048139572),\n",
       " ('一色四同顺', 0.09622961282730103),\n",
       " ('三杠', 0.09620863199234009),\n",
       " ('妙手回春', 0.09031521528959274),\n",
       " ('抢杠和', 0.08968039602041245),\n",
       " ('双明杠', 0.08683235943317413),\n",
       " ('双暗杠', 0.08668944984674454),\n",
       " ('清幺九', 0.08600226044654846),\n",
       " ('小四喜', 0.08466795086860657),\n",
       " ('七星不靠', 0.08460734784603119),\n",
       " ('绿一色', 0.08410496264696121),\n",
       " ('一色三同顺', 0.0808059424161911),\n",
       " ('字一色', 0.07909941673278809),\n",
       " ('门前清', 0.07840710878372192),\n",
       " ('三色双龙会', 0.07557263970375061),\n",
       " ('明杠', 0.0725608691573143),\n",
       " ('一色三节高', 0.06913502514362335),\n",
       " ('推不倒', 0.06112995371222496),\n",
       " ('一色四步高', 0.058565206825733185),\n",
       " ('连七对', 0.05569597706198692),\n",
       " ('三色三节高', 0.052484214305877686),\n",
       " ('大于五', 0.03901666775345802),\n",
       " ('混幺九', 0.03352867811918259),\n",
       " ('全带幺', 0.030114879831671715),\n",
       " ('一色三步高', 0.02701960690319538),\n",
       " ('九莲宝灯', 0.026872677728533745),\n",
       " ('花龙', 0.02560986578464508),\n",
       " ('小于五', 0.025348888710141182),\n",
       " ('全小', 0.024693461135029793),\n",
       " ('双同刻', 0.024438446387648582),\n",
       " ('碰碰和', 0.02410200610756874),\n",
       " ('清龙', 0.01942158304154873),\n",
       " ('边张', 0.01744675822556019),\n",
       " ('四归一', 0.017057107761502266),\n",
       " ('三同刻', 0.016543667763471603),\n",
       " ('全中', 0.016485441476106644),\n",
       " ('双暗刻', 0.015894543379545212),\n",
       " ('混一色', 0.013866351917386055),\n",
       " ('不求人', 0.012653233483433723),\n",
       " ('门风刻', 0.011447463184595108),\n",
       " ('一般高', 0.011247390881180763),\n",
       " ('三色三同顺', 0.011136665008962154),\n",
       " ('五门齐', 0.011094403453171253),\n",
       " ('大三元', 0.009436718188226223),\n",
       " ('三风刻', 0.009197401814162731),\n",
       " ('三色三步高', 0.00831708312034607),\n",
       " ('全不靠', 0.0067436471581459045),\n",
       " ('连六', 0.0063485573045909405),\n",
       " ('缺一门', 0.005156801547855139),\n",
       " ('小三元', 0.004601873457431793),\n",
       " ('断幺', 0.002371035749092698),\n",
       " ('嵌张', 0.001309723244048655),\n",
       " ('单钓将', 0.0011073099449276924),\n",
       " ('全求人', 0.0002109786873916164),\n",
       " ('幺九刻', 5.108342884341255e-05),\n",
       " ('和绝张', -0.00017857522470876575),\n",
       " ('圈风刻', -0.0004521684895735234),\n",
       " ('老少副', -0.00170795526355505),\n",
       " ('平和', -0.002258478896692395),\n",
       " ('喜相逢', -0.0023697838187217712),\n",
       " ('无字', -0.0031754598021507263),\n",
       " ('箭刻', -0.0035152335185557604),\n",
       " ('全带五', -0.003823106409981847),\n",
       " ('双箭刻', -0.010737006552517414),\n",
       " ('清一色', -0.020607782527804375),\n",
       " ('三暗刻', -0.03307273983955383),\n",
       " ('自摸', -0.0732799544930458)]"
      ]
     },
     "execution_count": 8,
     "metadata": {},
     "output_type": "execute_result"
    }
   ],
   "source": [
    "fan_output"
   ]
  },
  {
   "cell_type": "code",
   "execution_count": 9,
   "metadata": {},
   "outputs": [],
   "source": [
    "tile_output = reversed_tile_conversion(net.tile_coeff.detach().numpy(), tile_list_raw)"
   ]
  },
  {
   "cell_type": "code",
   "execution_count": 10,
   "metadata": {},
   "outputs": [],
   "source": [
    "_tile_pref = {\n",
    "    \"B1\": 0.99,\n",
    "    \"B2\": 0.991,\n",
    "    \"B3\": 0.992,\n",
    "    \"B4\": 0.993,\n",
    "    \"B5\": 0.994,\n",
    "    \"B6\": 0.995,\n",
    "    \"B7\": 0.996,\n",
    "    \"B8\": 0.996,\n",
    "    \"B9\": 0.997,  # 饼\n",
    "    \"W1\": 0.998,\n",
    "    \"W2\": 0.999,\n",
    "    \"W3\": 1.0,\n",
    "    \"W4\": 1.001,\n",
    "    \"W5\": 1.002,\n",
    "    \"W6\": 1.003,\n",
    "    \"W7\": 1.004,\n",
    "    \"W8\": 1.005,\n",
    "    \"W9\": 1.006,  # 万\n",
    "    \"T1\": 0.989,\n",
    "    \"T2\": 0.988,\n",
    "    \"T3\": 0.987,\n",
    "    \"T4\": 0.987,\n",
    "    \"T5\": 0.986,\n",
    "    \"T6\": 0.985,\n",
    "    \"T7\": 0.984,\n",
    "    \"T8\": 0.983,\n",
    "    \"T9\": 0.982,  # 条\n",
    "    \"F1\": 1.007,\n",
    "    \"F2\": 1.008,\n",
    "    \"F3\": 1.009,\n",
    "    \"F4\": 1.01,\n",
    "    \"J1\": 1.011,\n",
    "    \"J2\": 1.012,\n",
    "    \"J3\": 1.013,  # 风、箭\n",
    "}"
   ]
  },
  {
   "cell_type": "code",
   "execution_count": 11,
   "metadata": {},
   "outputs": [],
   "source": [
    "known_tile_pref = sorted(_tile_pref.items(), key=lambda x: -x[1])"
   ]
  },
  {
   "cell_type": "code",
   "execution_count": 12,
   "metadata": {},
   "outputs": [],
   "source": [
    "l1 = []\n",
    "for p in known_tile_pref:\n",
    "    l1.append(p[0])"
   ]
  },
  {
   "cell_type": "code",
   "execution_count": 13,
   "metadata": {},
   "outputs": [],
   "source": [
    "tile_output = sorted(tile_output.items(), key=lambda x: -x[1])"
   ]
  },
  {
   "cell_type": "code",
   "execution_count": 18,
   "metadata": {},
   "outputs": [],
   "source": [
    "l2 = []\n",
    "l2d = {}\n",
    "for p in tile_output:\n",
    "    l2.append(p[0])\n",
    "    l2d[p[0]]=p[1]"
   ]
  },
  {
   "cell_type": "code",
   "execution_count": 15,
   "metadata": {},
   "outputs": [],
   "source": [
    "l1_converted = [tile_list_conversion[x] for x in l1]\n",
    "l2_converted = [tile_list_conversion[x] for x in l2]"
   ]
  },
  {
   "cell_type": "code",
   "execution_count": 16,
   "metadata": {},
   "outputs": [],
   "source": [
    "df = pd.DataFrame()"
   ]
  },
  {
   "cell_type": "code",
   "execution_count": 19,
   "metadata": {},
   "outputs": [
    {
     "data": {
      "text/plain": [
       "{'J3': 1.413110375404358,\n",
       " 'J2': 1.1383740901947021,\n",
       " 'J1': 1.0742130279541016,\n",
       " 'F4': 0.9988686442375183,\n",
       " 'F3': 0.8750644326210022,\n",
       " 'F2': 0.8038995265960693,\n",
       " 'W9': 0.7539696097373962,\n",
       " 'F1': 0.749397337436676,\n",
       " 'W8': 0.7057797312736511,\n",
       " 'W7': 0.6879855394363403,\n",
       " 'W6': 0.6517385244369507,\n",
       " 'W5': 0.6148751974105835,\n",
       " 'W4': 0.5762643218040466,\n",
       " 'W3': 0.5414806604385376,\n",
       " 'W2': 0.4989180862903595,\n",
       " 'W1': 0.4630112946033478,\n",
       " 'B9': 0.44540563225746155,\n",
       " 'B8': 0.4367682635784149,\n",
       " 'B7': 0.43627840280532837,\n",
       " 'B6': 0.4314165711402893,\n",
       " 'B5': 0.4152246415615082,\n",
       " 'B4': 0.4089546501636505,\n",
       " 'B3': 0.39770740270614624,\n",
       " 'T1': 0.39184990525245667,\n",
       " 'B2': 0.39055466651916504,\n",
       " 'B1': 0.3822522461414337,\n",
       " 'T2': 0.3620748221874237,\n",
       " 'T3': 0.32989853620529175,\n",
       " 'T4': 0.3259626030921936,\n",
       " 'T5': 0.2986399531364441,\n",
       " 'T6': 0.2768508791923523,\n",
       " 'T7': 0.2553465664386749,\n",
       " 'T8': 0.2364477515220642,\n",
       " 'T9': 0.2165195345878601}"
      ]
     },
     "execution_count": 19,
     "metadata": {},
     "output_type": "execute_result"
    }
   ],
   "source": [
    "l2d"
   ]
  },
  {
   "cell_type": "code",
   "execution_count": 30,
   "metadata": {},
   "outputs": [],
   "source": [
    "df[\"Known Tile Order\"] = l1_converted\n",
    "df[\"Learned Tile Order\"] = l2_converted\n",
    "df[\"known order weight\"] = [l2d[x] for x in l1]"
   ]
  },
  {
   "cell_type": "code",
   "execution_count": 31,
   "metadata": {},
   "outputs": [
    {
     "name": "stdout",
     "output_type": "stream",
     "text": [
      "\\begin{tabular}{llr}\n",
      "\\toprule\n",
      "Known Tile Order & Learned Tile Order &  known order weight \\\\\n",
      "\\midrule\n",
      "              WD &                 WD &               1.413 \\\\\n",
      "              GD &                 GD &               1.138 \\\\\n",
      "              RD &                 RD &               1.074 \\\\\n",
      "              NW &                 NW &               0.999 \\\\\n",
      "              WW &                 WW &               0.875 \\\\\n",
      "              SW &                 SW &               0.804 \\\\\n",
      "              EW &                 C9 &               0.749 \\\\\n",
      "              C9 &                 EW &               0.754 \\\\\n",
      "              C8 &                 C8 &               0.706 \\\\\n",
      "              C7 &                 C7 &               0.688 \\\\\n",
      "              C6 &                 C6 &               0.652 \\\\\n",
      "              C5 &                 C5 &               0.615 \\\\\n",
      "              C4 &                 C4 &               0.576 \\\\\n",
      "              C3 &                 C3 &               0.541 \\\\\n",
      "              C2 &                 C2 &               0.499 \\\\\n",
      "              C1 &                 C1 &               0.463 \\\\\n",
      "              D9 &                 D9 &               0.445 \\\\\n",
      "              D7 &                 D8 &               0.436 \\\\\n",
      "              D8 &                 D7 &               0.437 \\\\\n",
      "              D6 &                 D6 &               0.431 \\\\\n",
      "              D5 &                 D5 &               0.415 \\\\\n",
      "              D4 &                 D4 &               0.409 \\\\\n",
      "              D3 &                 D3 &               0.398 \\\\\n",
      "              D2 &                 B1 &               0.391 \\\\\n",
      "              D1 &                 D2 &               0.382 \\\\\n",
      "              B1 &                 D1 &               0.392 \\\\\n",
      "              B2 &                 B2 &               0.362 \\\\\n",
      "              B3 &                 B3 &               0.330 \\\\\n",
      "              B4 &                 B4 &               0.326 \\\\\n",
      "              B5 &                 B5 &               0.299 \\\\\n",
      "              B6 &                 B6 &               0.277 \\\\\n",
      "              B7 &                 B7 &               0.255 \\\\\n",
      "              B8 &                 B8 &               0.236 \\\\\n",
      "              B9 &                 B9 &               0.217 \\\\\n",
      "\\bottomrule\n",
      "\\end{tabular}\n",
      "\n"
     ]
    },
    {
     "name": "stderr",
     "output_type": "stream",
     "text": [
      "/tmp/ipykernel_460/1953432654.py:2: FutureWarning: In future versions `DataFrame.to_latex` is expected to utilise the base implementation of `Styler.to_latex` for formatting and rendering. The arguments signature may therefore change. It is recommended instead to use `DataFrame.style.to_latex` which also contains additional functionality.\n",
      "  df.to_latex(\n"
     ]
    }
   ],
   "source": [
    "print(\n",
    "    df.to_latex(\n",
    "        index=False,\n",
    "        formatters={\"name\": str.upper},\n",
    "        float_format=\"{:.3f}\".format,\n",
    "    )\n",
    ")"
   ]
  },
  {
   "cell_type": "code",
   "execution_count": 33,
   "metadata": {},
   "outputs": [
    {
     "name": "stderr",
     "output_type": "stream",
     "text": [
      "/tmp/ipykernel_460/2143978880.py:3: FutureWarning: In future versions `DataFrame.to_latex` is expected to utilise the base implementation of `Styler.to_latex` for formatting and rendering. The arguments signature may therefore change. It is recommended instead to use `DataFrame.style.to_latex` which also contains additional functionality.\n",
      "  df.to_latex(\n"
     ]
    }
   ],
   "source": [
    "with open(\"a.txt\", \"w+\") as f:\n",
    "    f.writelines(\n",
    "        df.to_latex(\n",
    "            index=True,\n",
    "            formatters={\"name\": str.upper},\n",
    "            float_format=\"{:.4f}\".format,\n",
    "        )\n",
    "    )"
   ]
  },
  {
   "cell_type": "code",
   "execution_count": 10,
   "metadata": {},
   "outputs": [],
   "source": [
    "path_to_ds = \"../tmp\"\n",
    "ds = MahjongSLDataset(path_to_ds, 0.0, 1)\n",
    "loader = DataLoader(dataset=ds, batch_size=1, shuffle=False, num_workers=4)"
   ]
  },
  {
   "cell_type": "code",
   "execution_count": 11,
   "metadata": {},
   "outputs": [],
   "source": [
    "d = next(iter(loader))"
   ]
  },
  {
   "cell_type": "code",
   "execution_count": 12,
   "metadata": {},
   "outputs": [
    {
     "data": {
      "text/plain": [
       "tensor([[True, True, True, True, True, True]])"
      ]
     },
     "execution_count": 12,
     "metadata": {},
     "output_type": "execute_result"
    }
   ],
   "source": [
    "d[1] == ds[0][1]"
   ]
  },
  {
   "cell_type": "code",
   "execution_count": 13,
   "metadata": {},
   "outputs": [],
   "source": [
    "path_to_data = \"../data\"\n",
    "data_name = \"0.npy\"\n",
    "(\n",
    "    botzone_log,  # 1\n",
    "    tileWall_log,  # 2\n",
    "    pack_log,  # 3\n",
    "    handWall_log,  # 4\n",
    "    obsWall_log,  # 5\n",
    "    remaining_tile_log,  # 6\n",
    "    botzone_id,  # 7\n",
    "    winner_id,  # 8\n",
    "    prevailing_wind,  # 9\n",
    "    fan_sum,  # 10\n",
    "    score,\n",
    "    fan_list,  # 11\n",
    ") = feature.load_log(path_to_data, data_name)"
   ]
  },
  {
   "cell_type": "code",
   "execution_count": 14,
   "metadata": {},
   "outputs": [],
   "source": [
    "(\n",
    "    meta,\n",
    "    meta_feature_new,\n",
    "    tile_wall_feature,\n",
    "    k,\n",
    "    q,\n",
    "    m,\n",
    "    n,\n",
    "    o,\n",
    "    # fan_summary,\n",
    "    label_action,\n",
    "    label_tile,\n",
    "    v_info,\n",
    ") = d\n",
    "\n",
    "(\n",
    "    meta,\n",
    "    meta_feature_new,\n",
    "    tile_wall_feature,\n",
    "    k,\n",
    "    q,\n",
    "    m,\n",
    "    n,\n",
    "    o,\n",
    "    # fan_summary,\n",
    "    label_action,\n",
    "    label_tile,\n",
    ") = (\n",
    "    meta.to(device),\n",
    "    meta_feature_new.to(device),\n",
    "    tile_wall_feature.to(device),\n",
    "    k.to(device),\n",
    "    q.to(device),\n",
    "    m.to(device),\n",
    "    n.to(device),\n",
    "    o.to(device),\n",
    "    # data_description.to(device).float(),\n",
    "    # fan_summary.to(device),\n",
    "    label_action.to(device),\n",
    "    label_tile.to(device),\n",
    ")\n",
    "data1 = (k, q, m, n, o)\n",
    "\n",
    "index_list_plus_one = torch.tensor([i + 1 for i in range(len(meta))]).to(device)\n",
    "x = (\n",
    "    meta_feature_new,\n",
    "    tile_wall_feature,\n",
    "    data1,\n",
    ")"
   ]
  },
  {
   "cell_type": "code",
   "execution_count": 15,
   "metadata": {},
   "outputs": [],
   "source": [
    "(meta_feature, tile_wall_feature, search_matrix) = x\n",
    "\n",
    "(\n",
    "    tile_prep_data,\n",
    "    fan_prep,\n",
    "    missing_tile_prep_data,\n",
    "    count_prep,\n",
    "    chi_peng_count_remain_data,\n",
    ") = search_matrix"
   ]
  },
  {
   "cell_type": "code",
   "execution_count": 16,
   "metadata": {},
   "outputs": [],
   "source": [
    "action, tile = net(x)"
   ]
  },
  {
   "cell_type": "code",
   "execution_count": 17,
   "metadata": {},
   "outputs": [],
   "source": [
    "network_output_dict = reversed_tile_conversion(tile[0], tile_list_raw)\n",
    "for key in tile_list_raw:\n",
    "    if network_output_dict[key] == 0.0:\n",
    "        del network_output_dict[key]"
   ]
  },
  {
   "cell_type": "code",
   "execution_count": 19,
   "metadata": {},
   "outputs": [
    {
     "data": {
      "text/plain": [
       "defaultdict(<function __main__.default_zero()>,\n",
       "            {'B2': tensor(1.1383, grad_fn=<AddBackward0>),\n",
       "             'B7': tensor(4.5847, grad_fn=<AddBackward0>),\n",
       "             'W3': tensor(1.2013, grad_fn=<AddBackward0>),\n",
       "             'W6': tensor(1.2322, grad_fn=<AddBackward0>),\n",
       "             'W9': tensor(4.4820, grad_fn=<AddBackward0>),\n",
       "             'T1': tensor(1.1608, grad_fn=<AddBackward0>),\n",
       "             'T6': tensor(5.2495, grad_fn=<AddBackward0>),\n",
       "             'T8': tensor(4.2498, grad_fn=<AddBackward0>),\n",
       "             'T9': tensor(5.2461, grad_fn=<AddBackward0>),\n",
       "             'F4': tensor(1.1229, grad_fn=<AddBackward0>),\n",
       "             'J1': tensor(1.4294, grad_fn=<AddBackward0>),\n",
       "             'J3': tensor(1.4016, grad_fn=<AddBackward0>)})"
      ]
     },
     "execution_count": 19,
     "metadata": {},
     "output_type": "execute_result"
    }
   ],
   "source": [
    "network_output_dict"
   ]
  },
  {
   "cell_type": "code",
   "execution_count": null,
   "metadata": {},
   "outputs": [],
   "source": []
  }
 ],
 "metadata": {
  "kernelspec": {
   "display_name": "base",
   "language": "python",
   "name": "python3"
  },
  "language_info": {
   "codemirror_mode": {
    "name": "ipython",
    "version": 3
   },
   "file_extension": ".py",
   "mimetype": "text/x-python",
   "name": "python",
   "nbconvert_exporter": "python",
   "pygments_lexer": "ipython3",
   "version": "3.10.9"
  },
  "orig_nbformat": 4,
  "vscode": {
   "interpreter": {
    "hash": "47f873a0a3f5c080b5a3f0a6af68425945f18820793032958ff2e1d94c43b050"
   }
  }
 },
 "nbformat": 4,
 "nbformat_minor": 2
}
